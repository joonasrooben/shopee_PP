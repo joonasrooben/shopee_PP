{
 "cells": [
  {
   "cell_type": "markdown",
   "id": "bibliographic-communications",
   "metadata": {
    "id": "xybnxpVw3zZd",
    "papermill": {
     "duration": 0.034509,
     "end_time": "2021-05-17T12:13:36.993917",
     "exception": false,
     "start_time": "2021-05-17T12:13:36.959408",
     "status": "completed"
    },
    "tags": []
   },
   "source": [
    "# Img Embs + BERT emb concatenation for posting matching\n",
    "We take the concatenation of img embs and tf-idf embs"
   ]
  },
  {
   "cell_type": "markdown",
   "id": "linear-fundamentals",
   "metadata": {
    "id": "fQBQipB13zZk",
    "papermill": {
     "duration": 0.033313,
     "end_time": "2021-05-17T12:13:37.060846",
     "exception": false,
     "start_time": "2021-05-17T12:13:37.027533",
     "status": "completed"
    },
    "tags": []
   },
   "source": [
    "# 0. Setup"
   ]
  },
  {
   "cell_type": "markdown",
   "id": "thermal-hearing",
   "metadata": {
    "id": "9RD0nIqx3zZl",
    "papermill": {
     "duration": 0.033882,
     "end_time": "2021-05-17T12:13:37.128086",
     "exception": false,
     "start_time": "2021-05-17T12:13:37.094204",
     "status": "completed"
    },
    "tags": []
   },
   "source": [
    "### Imports"
   ]
  },
  {
   "cell_type": "code",
   "execution_count": 1,
   "id": "logical-cancer",
   "metadata": {
    "execution": {
     "iopub.execute_input": "2021-05-17T12:13:37.200762Z",
     "iopub.status.busy": "2021-05-17T12:13:37.199192Z",
     "iopub.status.idle": "2021-05-17T12:14:29.576000Z",
     "shell.execute_reply": "2021-05-17T12:14:29.575004Z"
    },
    "id": "t-eA5KSf4pSb",
    "outputId": "613e4790-df5d-4b86-e169-8a9cc60d1d37",
    "papermill": {
     "duration": 52.414373,
     "end_time": "2021-05-17T12:14:29.576157",
     "exception": false,
     "start_time": "2021-05-17T12:13:37.161784",
     "status": "completed"
    },
    "tags": []
   },
   "outputs": [
    {
     "name": "stdout",
     "output_type": "stream",
     "text": [
      "Processing /kaggle/input/keras-efficientnet-whl/Keras_Applications-1.0.8-py3-none-any.whl\r\n",
      "Requirement already satisfied: h5py in /opt/conda/lib/python3.7/site-packages (from Keras-Applications==1.0.8) (2.10.0)\r\n",
      "Requirement already satisfied: numpy>=1.9.1 in /opt/conda/lib/python3.7/site-packages (from Keras-Applications==1.0.8) (1.19.5)\r\n",
      "Requirement already satisfied: six in /opt/conda/lib/python3.7/site-packages (from h5py->Keras-Applications==1.0.8) (1.15.0)\r\n",
      "Installing collected packages: Keras-Applications\r\n",
      "Successfully installed Keras-Applications-1.0.8\r\n",
      "Processing /kaggle/input/keras-efficientnet-whl/efficientnet-1.1.1-py3-none-any.whl\r\n",
      "Requirement already satisfied: keras-applications<=1.0.8,>=1.0.7 in /opt/conda/lib/python3.7/site-packages (from efficientnet==1.1.1) (1.0.8)\r\n",
      "Requirement already satisfied: scikit-image in /opt/conda/lib/python3.7/site-packages (from efficientnet==1.1.1) (0.18.1)\r\n",
      "Requirement already satisfied: numpy>=1.9.1 in /opt/conda/lib/python3.7/site-packages (from keras-applications<=1.0.8,>=1.0.7->efficientnet==1.1.1) (1.19.5)\r\n",
      "Requirement already satisfied: h5py in /opt/conda/lib/python3.7/site-packages (from keras-applications<=1.0.8,>=1.0.7->efficientnet==1.1.1) (2.10.0)\r\n",
      "Requirement already satisfied: six in /opt/conda/lib/python3.7/site-packages (from h5py->keras-applications<=1.0.8,>=1.0.7->efficientnet==1.1.1) (1.15.0)\r\n",
      "Requirement already satisfied: scipy>=1.0.1 in /opt/conda/lib/python3.7/site-packages (from scikit-image->efficientnet==1.1.1) (1.5.4)\r\n",
      "Requirement already satisfied: PyWavelets>=1.1.1 in /opt/conda/lib/python3.7/site-packages (from scikit-image->efficientnet==1.1.1) (1.1.1)\r\n",
      "Requirement already satisfied: networkx>=2.0 in /opt/conda/lib/python3.7/site-packages (from scikit-image->efficientnet==1.1.1) (2.5)\r\n",
      "Requirement already satisfied: tifffile>=2019.7.26 in /opt/conda/lib/python3.7/site-packages (from scikit-image->efficientnet==1.1.1) (2021.4.8)\r\n",
      "Requirement already satisfied: imageio>=2.3.0 in /opt/conda/lib/python3.7/site-packages (from scikit-image->efficientnet==1.1.1) (2.9.0)\r\n",
      "Requirement already satisfied: pillow!=7.1.0,!=7.1.1,>=4.3.0 in /opt/conda/lib/python3.7/site-packages (from scikit-image->efficientnet==1.1.1) (7.2.0)\r\n",
      "Requirement already satisfied: matplotlib!=3.0.0,>=2.0.0 in /opt/conda/lib/python3.7/site-packages (from scikit-image->efficientnet==1.1.1) (3.4.1)\r\n",
      "Requirement already satisfied: python-dateutil>=2.7 in /opt/conda/lib/python3.7/site-packages (from matplotlib!=3.0.0,>=2.0.0->scikit-image->efficientnet==1.1.1) (2.8.1)\r\n",
      "Requirement already satisfied: pyparsing>=2.2.1 in /opt/conda/lib/python3.7/site-packages (from matplotlib!=3.0.0,>=2.0.0->scikit-image->efficientnet==1.1.1) (2.4.7)\r\n",
      "Requirement already satisfied: kiwisolver>=1.0.1 in /opt/conda/lib/python3.7/site-packages (from matplotlib!=3.0.0,>=2.0.0->scikit-image->efficientnet==1.1.1) (1.3.1)\r\n",
      "Requirement already satisfied: cycler>=0.10 in /opt/conda/lib/python3.7/site-packages (from matplotlib!=3.0.0,>=2.0.0->scikit-image->efficientnet==1.1.1) (0.10.0)\r\n",
      "Requirement already satisfied: decorator>=4.3.0 in /opt/conda/lib/python3.7/site-packages (from networkx>=2.0->scikit-image->efficientnet==1.1.1) (4.4.2)\r\n",
      "Installing collected packages: efficientnet\r\n",
      "Successfully installed efficientnet-1.1.1\r\n"
     ]
    }
   ],
   "source": [
    "#! pip install annoy\n",
    "#! pip install efficientnet\n",
    "#! pip install cupy\n",
    "#import gc\n",
    "!pip install ../input/keras-efficientnet-whl/Keras_Applications-1.0.8-py3-none-any.whl\n",
    "!pip install ../input/keras-efficientnet-whl/efficientnet-1.1.1-py3-none-any.whl"
   ]
  },
  {
   "cell_type": "code",
   "execution_count": 2,
   "id": "induced-disposal",
   "metadata": {
    "execution": {
     "iopub.execute_input": "2021-05-17T12:14:29.656743Z",
     "iopub.status.busy": "2021-05-17T12:14:29.654493Z",
     "iopub.status.idle": "2021-05-17T12:14:36.917083Z",
     "shell.execute_reply": "2021-05-17T12:14:36.916568Z"
    },
    "id": "1GhhFy8u3zZm",
    "outputId": "6c014d1f-f550-44e9-d3e4-7c37d1b7ab85",
    "papermill": {
     "duration": 7.304686,
     "end_time": "2021-05-17T12:14:36.917215",
     "exception": false,
     "start_time": "2021-05-17T12:14:29.612529",
     "status": "completed"
    },
    "tags": []
   },
   "outputs": [],
   "source": [
    "import numpy as np\n",
    "import tensorflow as tf\n",
    "import pandas as pd\n",
    "import matplotlib.pyplot as plt\n",
    "import cupy as cp # for efficiently calculating cosine similarity\n",
    "from tqdm.auto import tqdm # same too\n",
    "import glob\n",
    "import os.path\n",
    "from PIL import Image\n",
    "from efficientnet.preprocessing import center_crop_and_resize\n",
    "import time\n",
    "from efficientnet.tfkeras import EfficientNetB3\n",
    "import matplotlib.image as mpimg\n",
    "import json\n",
    "#from annoy import AnnoyIndex\n",
    "from scipy import spatial\n",
    "import math\n",
    "#from tensorflow.keras.applications import EfficientNetB0"
   ]
  },
  {
   "cell_type": "code",
   "execution_count": 3,
   "id": "rough-polymer",
   "metadata": {
    "execution": {
     "iopub.execute_input": "2021-05-17T12:14:36.992745Z",
     "iopub.status.busy": "2021-05-17T12:14:36.992086Z",
     "iopub.status.idle": "2021-05-17T12:14:38.797120Z",
     "shell.execute_reply": "2021-05-17T12:14:38.796587Z"
    },
    "papermill": {
     "duration": 1.844364,
     "end_time": "2021-05-17T12:14:38.797272",
     "exception": false,
     "start_time": "2021-05-17T12:14:36.952908",
     "status": "completed"
    },
    "tags": []
   },
   "outputs": [],
   "source": [
    "# we'll use AutoModel and AutoTokenizer for easy use\n",
    "from transformers import AutoModel, AutoTokenizer\n",
    "from transformers import get_linear_schedule_with_warmup\n",
    "\n",
    "# import torch\n",
    "import torch"
   ]
  },
  {
   "cell_type": "code",
   "execution_count": 4,
   "id": "typical-barbados",
   "metadata": {
    "execution": {
     "iopub.execute_input": "2021-05-17T12:14:38.872737Z",
     "iopub.status.busy": "2021-05-17T12:14:38.872236Z",
     "iopub.status.idle": "2021-05-17T12:14:38.875807Z",
     "shell.execute_reply": "2021-05-17T12:14:38.876207Z"
    },
    "id": "3PF_vYCP4FJv",
    "papermill": {
     "duration": 0.043054,
     "end_time": "2021-05-17T12:14:38.876345",
     "exception": false,
     "start_time": "2021-05-17T12:14:38.833291",
     "status": "completed"
    },
    "tags": []
   },
   "outputs": [],
   "source": [
    "train_path =  \"../input/shopee-product-matching/train_images/\"\n",
    "test_path = \"../input/shopee-product-matching/test_images/\"\n",
    "path_emb = \"drive/My Drive/NN/train/emb/\"\n",
    "path_emb_test = \"drive/My Drive/NN/train/emb_test/\"\n",
    "path_tfs = \"drive/My Drive/NN/train/tfs/\"\n",
    "ckp_pth = \"../input/ef-ckpt/cp-0000.ckpt\""
   ]
  },
  {
   "cell_type": "markdown",
   "id": "supported-deficit",
   "metadata": {
    "id": "ZKqHDpfg3zZn",
    "papermill": {
     "duration": 0.035587,
     "end_time": "2021-05-17T12:14:38.947745",
     "exception": false,
     "start_time": "2021-05-17T12:14:38.912158",
     "status": "completed"
    },
    "tags": []
   },
   "source": [
    "# 1. Shopee Data"
   ]
  },
  {
   "cell_type": "markdown",
   "id": "valuable-landing",
   "metadata": {
    "id": "knv4963b3zZn",
    "papermill": {
     "duration": 0.03597,
     "end_time": "2021-05-17T12:14:39.019736",
     "exception": false,
     "start_time": "2021-05-17T12:14:38.983766",
     "status": "completed"
    },
    "tags": []
   },
   "source": [
    "### Get data"
   ]
  },
  {
   "cell_type": "markdown",
   "id": "offensive-yeast",
   "metadata": {
    "id": "o9gEvsJP3zZo",
    "papermill": {
     "duration": 0.036285,
     "end_time": "2021-05-17T12:14:39.092272",
     "exception": false,
     "start_time": "2021-05-17T12:14:39.055987",
     "status": "completed"
    },
    "tags": []
   },
   "source": [
    "<font color=\"red\">NOTE: </font> Set `DATA = \"test\"` when submitting."
   ]
  },
  {
   "cell_type": "code",
   "execution_count": 5,
   "id": "cellular-peeing",
   "metadata": {
    "execution": {
     "iopub.execute_input": "2021-05-17T12:14:39.168381Z",
     "iopub.status.busy": "2021-05-17T12:14:39.167618Z",
     "iopub.status.idle": "2021-05-17T12:14:39.170483Z",
     "shell.execute_reply": "2021-05-17T12:14:39.170049Z"
    },
    "id": "yiyf3fH73zZo",
    "papermill": {
     "duration": 0.04267,
     "end_time": "2021-05-17T12:14:39.170580",
     "exception": false,
     "start_time": "2021-05-17T12:14:39.127910",
     "status": "completed"
    },
    "tags": []
   },
   "outputs": [],
   "source": [
    "DATA = \"test\" # set to \"test\" when submitting"
   ]
  },
  {
   "cell_type": "code",
   "execution_count": 6,
   "id": "informed-plumbing",
   "metadata": {
    "execution": {
     "iopub.execute_input": "2021-05-17T12:14:39.247609Z",
     "iopub.status.busy": "2021-05-17T12:14:39.247122Z",
     "iopub.status.idle": "2021-05-17T12:14:39.255094Z",
     "shell.execute_reply": "2021-05-17T12:14:39.254514Z"
    },
    "id": "MJoiXNYd3zZo",
    "papermill": {
     "duration": 0.047839,
     "end_time": "2021-05-17T12:14:39.255204",
     "exception": false,
     "start_time": "2021-05-17T12:14:39.207365",
     "status": "completed"
    },
    "tags": []
   },
   "outputs": [],
   "source": [
    "import csv\n",
    "with open(\"../input/shopee-product-matching/\"+DATA+\".csv\", \"r\", encoding=\"utf8\") as f:\n",
    "    data = [{k: v for k, v in row.items()} for row in csv.DictReader(f, skipinitialspace=True)]"
   ]
  },
  {
   "cell_type": "code",
   "execution_count": 7,
   "id": "recreational-rubber",
   "metadata": {
    "execution": {
     "iopub.execute_input": "2021-05-17T12:14:39.333117Z",
     "iopub.status.busy": "2021-05-17T12:14:39.332491Z",
     "iopub.status.idle": "2021-05-17T12:14:39.336931Z",
     "shell.execute_reply": "2021-05-17T12:14:39.337337Z"
    },
    "id": "ZRLfb-oL3zZp",
    "outputId": "3a5ae301-24cb-4c34-e93b-65523ce956f0",
    "papermill": {
     "duration": 0.046253,
     "end_time": "2021-05-17T12:14:39.337447",
     "exception": false,
     "start_time": "2021-05-17T12:14:39.291194",
     "status": "completed"
    },
    "tags": []
   },
   "outputs": [
    {
     "data": {
      "text/plain": [
       "'test_2255846744'"
      ]
     },
     "execution_count": 7,
     "metadata": {},
     "output_type": "execute_result"
    }
   ],
   "source": [
    "posting_ids = [row[\"posting_id\"] for row in data]\n",
    "posting_ids[0]"
   ]
  },
  {
   "cell_type": "code",
   "execution_count": 8,
   "id": "clinical-missile",
   "metadata": {
    "execution": {
     "iopub.execute_input": "2021-05-17T12:14:39.414714Z",
     "iopub.status.busy": "2021-05-17T12:14:39.414019Z",
     "iopub.status.idle": "2021-05-17T12:14:39.417473Z",
     "shell.execute_reply": "2021-05-17T12:14:39.417048Z"
    },
    "papermill": {
     "duration": 0.043536,
     "end_time": "2021-05-17T12:14:39.417568",
     "exception": false,
     "start_time": "2021-05-17T12:14:39.374032",
     "status": "completed"
    },
    "tags": []
   },
   "outputs": [
    {
     "data": {
      "text/plain": [
       "'Edufuntoys - CHARACTER PHONE ada lampu dan musik/ mainan telepon'"
      ]
     },
     "execution_count": 8,
     "metadata": {},
     "output_type": "execute_result"
    }
   ],
   "source": [
    "descriptions = [row[\"title\"] for row in data]\n",
    "descriptions[0]"
   ]
  },
  {
   "cell_type": "markdown",
   "id": "federal-fitness",
   "metadata": {
    "id": "LzHobkMV3zZp",
    "papermill": {
     "duration": 0.037398,
     "end_time": "2021-05-17T12:14:39.491581",
     "exception": false,
     "start_time": "2021-05-17T12:14:39.454183",
     "status": "completed"
    },
    "tags": []
   },
   "source": [
    "### Create index2ID dictionary\n",
    "This dictionary maps indices to posting ids based on the order of the test data. So for example if posting id `'test_2255846744'` is the <b>5th</b> row of the data then we will have `index2ID[5] = 'test_2255846744'`. This dictionary is useful later on when we need to convert the most similar instances of an instance to the necessary submission format."
   ]
  },
  {
   "cell_type": "code",
   "execution_count": 9,
   "id": "emotional-priority",
   "metadata": {
    "execution": {
     "iopub.execute_input": "2021-05-17T12:14:39.569898Z",
     "iopub.status.busy": "2021-05-17T12:14:39.569143Z",
     "iopub.status.idle": "2021-05-17T12:14:39.572067Z",
     "shell.execute_reply": "2021-05-17T12:14:39.571566Z"
    },
    "id": "KHEIwla-3zZp",
    "papermill": {
     "duration": 0.043247,
     "end_time": "2021-05-17T12:14:39.572174",
     "exception": false,
     "start_time": "2021-05-17T12:14:39.528927",
     "status": "completed"
    },
    "tags": []
   },
   "outputs": [],
   "source": [
    "index2ID = {}\n",
    "for i in range(len(data)):\n",
    "    index2ID[i] = data[i][\"posting_id\"] "
   ]
  },
  {
   "cell_type": "markdown",
   "id": "composed-editing",
   "metadata": {
    "id": "aZXtv3GN3zZp",
    "papermill": {
     "duration": 0.037528,
     "end_time": "2021-05-17T12:14:39.646381",
     "exception": false,
     "start_time": "2021-05-17T12:14:39.608853",
     "status": "completed"
    },
    "tags": []
   },
   "source": [
    "# 2. Image embeddings\n"
   ]
  },
  {
   "cell_type": "markdown",
   "id": "egyptian-palestinian",
   "metadata": {
    "papermill": {
     "duration": 0.038191,
     "end_time": "2021-05-17T12:14:39.723235",
     "exception": false,
     "start_time": "2021-05-17T12:14:39.685044",
     "status": "completed"
    },
    "tags": []
   },
   "source": [
    "### Model setup"
   ]
  },
  {
   "cell_type": "code",
   "execution_count": 10,
   "id": "minus-foundation",
   "metadata": {
    "execution": {
     "iopub.execute_input": "2021-05-17T12:14:39.801454Z",
     "iopub.status.busy": "2021-05-17T12:14:39.800729Z",
     "iopub.status.idle": "2021-05-17T12:14:39.803511Z",
     "shell.execute_reply": "2021-05-17T12:14:39.803121Z"
    },
    "papermill": {
     "duration": 0.043505,
     "end_time": "2021-05-17T12:14:39.803614",
     "exception": false,
     "start_time": "2021-05-17T12:14:39.760109",
     "status": "completed"
    },
    "tags": []
   },
   "outputs": [],
   "source": [
    "IMAGE_SIZE = [512, 512]\n",
    "N_CLASSES = 11014\n",
    "BATCH_SIZE = 8\n",
    "AUTO = tf.data.experimental.AUTOTUNE"
   ]
  },
  {
   "cell_type": "code",
   "execution_count": 11,
   "id": "suspected-crest",
   "metadata": {
    "execution": {
     "iopub.execute_input": "2021-05-17T12:14:39.892945Z",
     "iopub.status.busy": "2021-05-17T12:14:39.892102Z",
     "iopub.status.idle": "2021-05-17T12:14:39.894915Z",
     "shell.execute_reply": "2021-05-17T12:14:39.894501Z"
    },
    "papermill": {
     "duration": 0.054065,
     "end_time": "2021-05-17T12:14:39.895030",
     "exception": false,
     "start_time": "2021-05-17T12:14:39.840965",
     "status": "completed"
    },
    "tags": []
   },
   "outputs": [],
   "source": [
    "class ArcMarginProduct(tf.keras.layers.Layer):\n",
    "    '''\n",
    "    Implements large margin arc distance.\n",
    "\n",
    "    Reference:\n",
    "        https://arxiv.org/pdf/1801.07698.pdf\n",
    "        https://github.com/lyakaap/Landmark2019-1st-and-3rd-Place-Solution/\n",
    "            blob/master/src/modeling/metric_learning.py\n",
    "    '''\n",
    "    def __init__(self, n_classes, s=30, m=0.50, easy_margin=False,\n",
    "                 ls_eps=0.0, **kwargs):\n",
    "\n",
    "        super(ArcMarginProduct, self).__init__(**kwargs)\n",
    "\n",
    "        self.n_classes = n_classes\n",
    "        self.s = s\n",
    "        self.m = m\n",
    "        self.ls_eps = ls_eps\n",
    "        self.easy_margin = easy_margin\n",
    "        self.cos_m = tf.math.cos(m)\n",
    "        self.sin_m = tf.math.sin(m)\n",
    "        self.th = tf.math.cos(math.pi - m)\n",
    "        self.mm = tf.math.sin(math.pi - m) * m\n",
    "\n",
    "    def get_config(self):\n",
    "\n",
    "        config = super().get_config().copy()\n",
    "        config.update({\n",
    "            'n_classes': self.n_classes,\n",
    "            's': self.s,\n",
    "            'm': self.m,\n",
    "            'ls_eps': self.ls_eps,\n",
    "            'easy_margin': self.easy_margin,\n",
    "        })\n",
    "        return config\n",
    "\n",
    "    def build(self, input_shape):\n",
    "        super(ArcMarginProduct, self).build(input_shape[0])\n",
    "\n",
    "        self.W = self.add_weight(\n",
    "            name='W',\n",
    "            shape=(int(input_shape[0][-1]), self.n_classes),\n",
    "            initializer='glorot_uniform',\n",
    "            dtype='float32',\n",
    "            trainable=True,\n",
    "            regularizer=None)\n",
    "\n",
    "    def call(self, inputs):\n",
    "        X, y = inputs\n",
    "        y = tf.cast(y, dtype=tf.int32)\n",
    "        cosine = tf.matmul(\n",
    "            tf.math.l2_normalize(X, axis=1),\n",
    "            tf.math.l2_normalize(self.W, axis=0)\n",
    "        )\n",
    "        sine = tf.math.sqrt(1.0 - tf.math.pow(cosine, 2))\n",
    "        phi = cosine * self.cos_m - sine * self.sin_m\n",
    "        if self.easy_margin:\n",
    "            phi = tf.where(cosine > 0, phi, cosine)\n",
    "        else:\n",
    "            phi = tf.where(cosine > self.th, phi, cosine - self.mm)\n",
    "        one_hot = tf.cast(\n",
    "            tf.one_hot(y, depth=self.n_classes),\n",
    "            dtype=cosine.dtype\n",
    "        )\n",
    "        if self.ls_eps > 0:\n",
    "            one_hot = (1 - self.ls_eps) * one_hot + self.ls_eps / self.n_classes\n",
    "\n",
    "        output = (one_hot * phi) + ((1.0 - one_hot) * cosine)\n",
    "        output *= self.s\n",
    "        return output"
   ]
  },
  {
   "cell_type": "code",
   "execution_count": 12,
   "id": "sixth-holocaust",
   "metadata": {
    "execution": {
     "iopub.execute_input": "2021-05-17T12:14:39.977367Z",
     "iopub.status.busy": "2021-05-17T12:14:39.976572Z",
     "iopub.status.idle": "2021-05-17T12:14:39.979471Z",
     "shell.execute_reply": "2021-05-17T12:14:39.978852Z"
    },
    "papermill": {
     "duration": 0.046415,
     "end_time": "2021-05-17T12:14:39.979591",
     "exception": false,
     "start_time": "2021-05-17T12:14:39.933176",
     "status": "completed"
    },
    "tags": []
   },
   "outputs": [],
   "source": [
    "def load_img(path):\n",
    " img = tf.io.read_file(path)\n",
    " img = tf.io.decode_jpeg(img, channels=3)\n",
    " img = tf.image.resize(img, IMAGE_SIZE)\n",
    " img = tf.cast(img, tf.float32) / 255.0\n",
    " img = img[tf.newaxis, ...]\n",
    " return img\n",
    "\n",
    "\n",
    "def get_image_embeddings_2(model, nr,df,  path = train_path):\n",
    "  embs = []\n",
    "  for i, row in enumerate(df):\n",
    "    #if i == nr:\n",
    "    #  break\n",
    "    filename = path + row[\"image\"]\n",
    "    img = load_img(filename)\n",
    "    features = model.predict(img)\n",
    "\n",
    "    feature_set = cp.squeeze(features)\n",
    "    embs.append(feature_set)\n",
    "    if i % 1000 == 0:\n",
    "        print(i)\n",
    "        print(feature_set.shape)\n",
    "    #print(features)\n",
    "  return embs"
   ]
  },
  {
   "cell_type": "code",
   "execution_count": 13,
   "id": "maritime-brooklyn",
   "metadata": {
    "execution": {
     "iopub.execute_input": "2021-05-17T12:14:40.068326Z",
     "iopub.status.busy": "2021-05-17T12:14:40.067621Z",
     "iopub.status.idle": "2021-05-17T12:14:40.082189Z",
     "shell.execute_reply": "2021-05-17T12:14:40.081699Z"
    },
    "papermill": {
     "duration": 0.06535,
     "end_time": "2021-05-17T12:14:40.082303",
     "exception": false,
     "start_time": "2021-05-17T12:14:40.016953",
     "status": "completed"
    },
    "tags": []
   },
   "outputs": [],
   "source": [
    "if DATA == \"test\":\n",
    "    df = pd.read_csv('../input/shopee-product-matching/test.csv')\n",
    "    image_paths = '../input/shopee-product-matching/test_images/' + df['image']\n",
    "else:\n",
    "    df = pd.read_csv('../input/shopee-product-matching/train.csv')\n",
    "    image_paths = '../input/shopee-product-matching/train_images/' + df['image']\n"
   ]
  },
  {
   "cell_type": "code",
   "execution_count": 14,
   "id": "freelance-learning",
   "metadata": {
    "execution": {
     "iopub.execute_input": "2021-05-17T12:14:40.167873Z",
     "iopub.status.busy": "2021-05-17T12:14:40.167360Z",
     "iopub.status.idle": "2021-05-17T12:14:58.980596Z",
     "shell.execute_reply": "2021-05-17T12:14:58.980116Z"
    },
    "papermill": {
     "duration": 18.86107,
     "end_time": "2021-05-17T12:14:58.980725",
     "exception": false,
     "start_time": "2021-05-17T12:14:40.119655",
     "status": "completed"
    },
    "tags": []
   },
   "outputs": [],
   "source": [
    "def read_image(image):\n",
    "    image = tf.io.read_file(image)\n",
    "    image = decode_image(image)\n",
    "    return image\n",
    "\n",
    "def decode_image(image_data):\n",
    "    image = tf.image.decode_jpeg(image_data, channels = 3)\n",
    "    image = tf.image.resize(image, IMAGE_SIZE)\n",
    "    image = tf.cast(image, tf.float32) / 255.0\n",
    "    return image\n",
    "\n",
    "def get_dataset(image):\n",
    "    dataset = tf.data.Dataset.from_tensor_slices(image)\n",
    "    dataset = dataset.map(read_image, num_parallel_calls = AUTO)\n",
    "    dataset = dataset.batch(BATCH_SIZE)\n",
    "    dataset = dataset.prefetch(AUTO)\n",
    "    return dataset\n",
    "\n",
    "margin = ArcMarginProduct(\n",
    "            n_classes = N_CLASSES, \n",
    "            s = 30, \n",
    "            m = 0.7, \n",
    "            name='head/arc_margin', \n",
    "            dtype='float32'\n",
    "            )\n",
    "inp = tf.keras.layers.Input(shape = (*IMAGE_SIZE, 3), name = 'inp1')\n",
    "label = tf.keras.layers.Input(shape = (), name = 'inp2')\n",
    "x = EfficientNetB3(weights=None, include_top=False)(inp)\n",
    "x = tf.keras.layers.GlobalAveragePooling2D()(x)\n",
    "x = margin([x, label])\n",
    "\n",
    "output = tf.keras.layers.Softmax(dtype='float32')(x)\n",
    "\n",
    "model = tf.keras.models.Model(inputs = [inp, label], outputs = [output])\n",
    "model.load_weights('../input/new-weights2/EfficientNetB3_512_42V2.h5')\n",
    "\n",
    "model = tf.keras.models.Model(inputs = model.input[0], outputs = model.layers[-4].output)\n",
    "\n",
    "embeds = []\n",
    "chunk = 5000\n",
    "iterator = np.arange(np.ceil(len(df) / chunk))\n",
    "for j in iterator:\n",
    "    a = int(j * chunk)\n",
    "    b = int((j + 1) * chunk)\n",
    "    image_dataset = get_dataset(image_paths[a:b])\n",
    "    image_embeddings = model.predict(image_dataset)\n",
    "    embeds.append(image_embeddings)\n",
    "del model\n",
    "image_embeddings = np.concatenate(embeds)"
   ]
  },
  {
   "cell_type": "code",
   "execution_count": 15,
   "id": "derived-appeal",
   "metadata": {
    "execution": {
     "iopub.execute_input": "2021-05-17T12:14:59.063984Z",
     "iopub.status.busy": "2021-05-17T12:14:59.063127Z",
     "iopub.status.idle": "2021-05-17T12:14:59.065624Z",
     "shell.execute_reply": "2021-05-17T12:14:59.066043Z"
    },
    "papermill": {
     "duration": 0.046145,
     "end_time": "2021-05-17T12:14:59.066182",
     "exception": false,
     "start_time": "2021-05-17T12:14:59.020037",
     "status": "completed"
    },
    "tags": []
   },
   "outputs": [],
   "source": [
    "#embeddings = image_embeddings"
   ]
  },
  {
   "cell_type": "code",
   "execution_count": 16,
   "id": "honey-walker",
   "metadata": {
    "execution": {
     "iopub.execute_input": "2021-05-17T12:14:59.176459Z",
     "iopub.status.busy": "2021-05-17T12:14:59.175820Z",
     "iopub.status.idle": "2021-05-17T12:14:59.182336Z",
     "shell.execute_reply": "2021-05-17T12:14:59.182767Z"
    },
    "papermill": {
     "duration": 0.078735,
     "end_time": "2021-05-17T12:14:59.182910",
     "exception": false,
     "start_time": "2021-05-17T12:14:59.104175",
     "status": "completed"
    },
    "tags": []
   },
   "outputs": [
    {
     "data": {
      "text/plain": [
       "(3, 2)"
      ]
     },
     "execution_count": 16,
     "metadata": {},
     "output_type": "execute_result"
    }
   ],
   "source": [
    "from sklearn.decomposition import PCA\n",
    "pca = PCA(0.9, whiten = True).fit(image_embeddings)\n",
    "img_embeddings_pca = pca.transform(image_embeddings)\n",
    "img_embeddings_pca.shape"
   ]
  },
  {
   "cell_type": "code",
   "execution_count": 17,
   "id": "stone-message",
   "metadata": {
    "execution": {
     "iopub.execute_input": "2021-05-17T12:14:59.263674Z",
     "iopub.status.busy": "2021-05-17T12:14:59.262940Z",
     "iopub.status.idle": "2021-05-17T12:14:59.265564Z",
     "shell.execute_reply": "2021-05-17T12:14:59.265174Z"
    },
    "papermill": {
     "duration": 0.043791,
     "end_time": "2021-05-17T12:14:59.265669",
     "exception": false,
     "start_time": "2021-05-17T12:14:59.221878",
     "status": "completed"
    },
    "tags": []
   },
   "outputs": [],
   "source": [
    "#if DATA == 'train':\n",
    "#with open('../input/img-emb-pca09whiten/img_emb_pca.npy', 'rb') as f:\n",
    "#    img_embeddings_pca = np.load(f)"
   ]
  },
  {
   "cell_type": "markdown",
   "id": "fallen-kansas",
   "metadata": {
    "papermill": {
     "duration": 0.037871,
     "end_time": "2021-05-17T12:14:59.341622",
     "exception": false,
     "start_time": "2021-05-17T12:14:59.303751",
     "status": "completed"
    },
    "tags": []
   },
   "source": [
    "# 3. Description embeddings (BERT)"
   ]
  },
  {
   "cell_type": "markdown",
   "id": "creative-acrylic",
   "metadata": {
    "papermill": {
     "duration": 0.037427,
     "end_time": "2021-05-17T12:14:59.416670",
     "exception": false,
     "start_time": "2021-05-17T12:14:59.379243",
     "status": "completed"
    },
    "tags": []
   },
   "source": [
    "### Clear GPU memory"
   ]
  },
  {
   "cell_type": "code",
   "execution_count": 18,
   "id": "sensitive-karen",
   "metadata": {
    "execution": {
     "iopub.execute_input": "2021-05-17T12:14:59.496331Z",
     "iopub.status.busy": "2021-05-17T12:14:59.495661Z",
     "iopub.status.idle": "2021-05-17T12:15:01.645273Z",
     "shell.execute_reply": "2021-05-17T12:15:01.645668Z"
    },
    "papermill": {
     "duration": 2.191547,
     "end_time": "2021-05-17T12:15:01.645850",
     "exception": false,
     "start_time": "2021-05-17T12:14:59.454303",
     "status": "completed"
    },
    "tags": []
   },
   "outputs": [
    {
     "data": {
      "text/plain": [
       "<weakproxy at 0x7f74f31df0b0 to Device at 0x7f74f3e95f90>"
      ]
     },
     "execution_count": 18,
     "metadata": {},
     "output_type": "execute_result"
    }
   ],
   "source": [
    "# clear GPU memory\n",
    "from numba import cuda\n",
    "cuda.select_device(0)\n",
    "cuda.close()\n",
    "cuda.select_device(0)"
   ]
  },
  {
   "cell_type": "markdown",
   "id": "sixth-correlation",
   "metadata": {
    "papermill": {
     "duration": 0.03819,
     "end_time": "2021-05-17T12:15:01.722617",
     "exception": false,
     "start_time": "2021-05-17T12:15:01.684427",
     "status": "completed"
    },
    "tags": []
   },
   "source": [
    "### Model setup"
   ]
  },
  {
   "cell_type": "code",
   "execution_count": 19,
   "id": "explicit-enemy",
   "metadata": {
    "execution": {
     "iopub.execute_input": "2021-05-17T12:15:01.803030Z",
     "iopub.status.busy": "2021-05-17T12:15:01.802505Z",
     "iopub.status.idle": "2021-05-17T12:15:06.851166Z",
     "shell.execute_reply": "2021-05-17T12:15:06.850673Z"
    },
    "papermill": {
     "duration": 5.090178,
     "end_time": "2021-05-17T12:15:06.851310",
     "exception": false,
     "start_time": "2021-05-17T12:15:01.761132",
     "status": "completed"
    },
    "tags": []
   },
   "outputs": [],
   "source": [
    "# get pretrained model from data we uploaded\n",
    "MODEL_NAME = \"../input/finetunebert2/archive(1)\"\n",
    "\n",
    "# define model and tokenizer\n",
    "bert_model = AutoModel.from_pretrained(MODEL_NAME)\n",
    "tokenizer = AutoTokenizer.from_pretrained(MODEL_NAME, padding_side = \"right\")"
   ]
  },
  {
   "cell_type": "markdown",
   "id": "checked-jaguar",
   "metadata": {
    "papermill": {
     "duration": 0.038935,
     "end_time": "2021-05-17T12:15:06.928854",
     "exception": false,
     "start_time": "2021-05-17T12:15:06.889919",
     "status": "completed"
    },
    "tags": []
   },
   "source": [
    "### Tokenize Data"
   ]
  },
  {
   "cell_type": "code",
   "execution_count": 20,
   "id": "convenient-marriage",
   "metadata": {
    "execution": {
     "iopub.execute_input": "2021-05-17T12:15:07.009855Z",
     "iopub.status.busy": "2021-05-17T12:15:07.009330Z",
     "iopub.status.idle": "2021-05-17T12:15:07.017633Z",
     "shell.execute_reply": "2021-05-17T12:15:07.017235Z"
    },
    "papermill": {
     "duration": 0.050426,
     "end_time": "2021-05-17T12:15:07.017739",
     "exception": false,
     "start_time": "2021-05-17T12:15:06.967313",
     "status": "completed"
    },
    "tags": []
   },
   "outputs": [],
   "source": [
    "# truncation = True specifies we want to cut off descirptions longer than 512 tokens\n",
    "# padding = True specifies we want to pad each description vector to length 512\n",
    "tokenized_descriptions = tokenizer(descriptions, truncation=True, padding=True)"
   ]
  },
  {
   "cell_type": "code",
   "execution_count": 21,
   "id": "chubby-slovenia",
   "metadata": {
    "execution": {
     "iopub.execute_input": "2021-05-17T12:15:07.100817Z",
     "iopub.status.busy": "2021-05-17T12:15:07.099575Z",
     "iopub.status.idle": "2021-05-17T12:15:07.101837Z",
     "shell.execute_reply": "2021-05-17T12:15:07.102259Z"
    },
    "papermill": {
     "duration": 0.045982,
     "end_time": "2021-05-17T12:15:07.102388",
     "exception": false,
     "start_time": "2021-05-17T12:15:07.056406",
     "status": "completed"
    },
    "tags": []
   },
   "outputs": [],
   "source": [
    "inputs = tokenized_descriptions[\"input_ids\"] # torch.tensor()\n",
    "masks = tokenized_descriptions[\"attention_mask\"]"
   ]
  },
  {
   "cell_type": "markdown",
   "id": "designing-bracket",
   "metadata": {
    "papermill": {
     "duration": 0.039239,
     "end_time": "2021-05-17T12:15:07.180415",
     "exception": false,
     "start_time": "2021-05-17T12:15:07.141176",
     "status": "completed"
    },
    "tags": []
   },
   "source": [
    "### Split into batches"
   ]
  },
  {
   "cell_type": "code",
   "execution_count": 22,
   "id": "governing-announcement",
   "metadata": {
    "execution": {
     "iopub.execute_input": "2021-05-17T12:15:07.299909Z",
     "iopub.status.busy": "2021-05-17T12:15:07.297414Z",
     "iopub.status.idle": "2021-05-17T12:15:07.302369Z",
     "shell.execute_reply": "2021-05-17T12:15:07.300706Z"
    },
    "papermill": {
     "duration": 0.078189,
     "end_time": "2021-05-17T12:15:07.302674",
     "exception": false,
     "start_time": "2021-05-17T12:15:07.224485",
     "status": "completed"
    },
    "tags": []
   },
   "outputs": [],
   "source": [
    "batch_size = 32\n",
    "input_batches = [inputs[i:i + batch_size] for i in range(0, len(inputs), batch_size)]\n",
    "mask_batches = [masks[i:i + batch_size] for i in range(0, len(masks), batch_size)]"
   ]
  },
  {
   "cell_type": "markdown",
   "id": "stock-flash",
   "metadata": {
    "papermill": {
     "duration": 0.063694,
     "end_time": "2021-05-17T12:15:07.431144",
     "exception": false,
     "start_time": "2021-05-17T12:15:07.367450",
     "status": "completed"
    },
    "tags": []
   },
   "source": [
    "### Connect to GPU"
   ]
  },
  {
   "cell_type": "code",
   "execution_count": 23,
   "id": "strong-paris",
   "metadata": {
    "execution": {
     "iopub.execute_input": "2021-05-17T12:15:07.565173Z",
     "iopub.status.busy": "2021-05-17T12:15:07.564329Z",
     "iopub.status.idle": "2021-05-17T12:15:07.566506Z",
     "shell.execute_reply": "2021-05-17T12:15:07.565873Z"
    },
    "papermill": {
     "duration": 0.072188,
     "end_time": "2021-05-17T12:15:07.566649",
     "exception": false,
     "start_time": "2021-05-17T12:15:07.494461",
     "status": "completed"
    },
    "tags": []
   },
   "outputs": [],
   "source": [
    "# get GPU\n",
    "device = torch.device('cuda' if torch.cuda.is_available() else 'cpu')"
   ]
  },
  {
   "cell_type": "code",
   "execution_count": 24,
   "id": "japanese-wright",
   "metadata": {
    "execution": {
     "iopub.execute_input": "2021-05-17T12:15:07.709409Z",
     "iopub.status.busy": "2021-05-17T12:15:07.708474Z",
     "iopub.status.idle": "2021-05-17T12:15:09.681215Z",
     "shell.execute_reply": "2021-05-17T12:15:09.680326Z"
    },
    "papermill": {
     "duration": 2.051525,
     "end_time": "2021-05-17T12:15:09.681364",
     "exception": false,
     "start_time": "2021-05-17T12:15:07.629839",
     "status": "completed"
    },
    "tags": []
   },
   "outputs": [],
   "source": [
    "# put everything to GPU\n",
    "bert_model = bert_model.to(device)"
   ]
  },
  {
   "cell_type": "markdown",
   "id": "stuck-entrance",
   "metadata": {
    "papermill": {
     "duration": 0.038794,
     "end_time": "2021-05-17T12:15:09.759286",
     "exception": false,
     "start_time": "2021-05-17T12:15:09.720492",
     "status": "completed"
    },
    "tags": []
   },
   "source": [
    "### Pass descriptions through pre-trained DistilBERT model and extract embeddings from last hidden states."
   ]
  },
  {
   "cell_type": "code",
   "execution_count": 25,
   "id": "straight-fever",
   "metadata": {
    "execution": {
     "iopub.execute_input": "2021-05-17T12:15:09.843386Z",
     "iopub.status.busy": "2021-05-17T12:15:09.842874Z",
     "iopub.status.idle": "2021-05-17T12:15:10.088890Z",
     "shell.execute_reply": "2021-05-17T12:15:10.088428Z"
    },
    "papermill": {
     "duration": 0.290988,
     "end_time": "2021-05-17T12:15:10.089035",
     "exception": false,
     "start_time": "2021-05-17T12:15:09.798047",
     "status": "completed"
    },
    "tags": []
   },
   "outputs": [
    {
     "name": "stdout",
     "output_type": "stream",
     "text": [
      "batch 0 / 1\n"
     ]
    }
   ],
   "source": [
    "# initialise embeddings (each elemnt of \"embeddings\" is a an embedding)\n",
    "#embeddings = np.zeros((batch_size,))\n",
    "\n",
    "# loop over batches\n",
    "for batch in range(len(input_batches)):\n",
    "    \n",
    "    if batch % 100 == 0:\n",
    "        print(f\"batch {batch} / {len(input_batches)}\")\n",
    "    \n",
    "    # Turn off the gradient (we only want to do the forward pass)\n",
    "    with torch.no_grad():\n",
    "        \n",
    "        # get input batch and mask batch\n",
    "        # we need to convert the batch to a tensor then put it to device\n",
    "        input_batch = torch.tensor(input_batches[batch]).to(device)\n",
    "        mask_batch = torch.tensor(mask_batches[batch]).to(device)\n",
    "        \n",
    "        # calculate last hidden states\n",
    "        batch_last_hidden_states = bert_model(input_batch, attention_mask = mask_batch)\n",
    "        \n",
    "        # get all embeddings for the batch\n",
    "        #print(batch_last_hidden_states[1])\n",
    "        batch_embeddings = batch_last_hidden_states[0][:,0,:].cpu().numpy()\n",
    "        \n",
    "        # append these embeddings to all embeddings\n",
    "        #embeddings.append(batch_embeddings)\n",
    "        if batch == 0:\n",
    "            bert_embeddings = batch_embeddings.copy()\n",
    "        else:\n",
    "            bert_embeddings = np.concatenate((bert_embeddings,batch_embeddings))"
   ]
  },
  {
   "cell_type": "code",
   "execution_count": 26,
   "id": "biblical-expert",
   "metadata": {
    "execution": {
     "iopub.execute_input": "2021-05-17T12:15:10.175241Z",
     "iopub.status.busy": "2021-05-17T12:15:10.174285Z",
     "iopub.status.idle": "2021-05-17T12:15:10.178488Z",
     "shell.execute_reply": "2021-05-17T12:15:10.179008Z"
    },
    "papermill": {
     "duration": 0.049776,
     "end_time": "2021-05-17T12:15:10.179153",
     "exception": false,
     "start_time": "2021-05-17T12:15:10.129377",
     "status": "completed"
    },
    "tags": []
   },
   "outputs": [
    {
     "name": "stdout",
     "output_type": "stream",
     "text": [
      "(3, 768)\n"
     ]
    },
    {
     "data": {
      "text/plain": [
       "array([[-0.4534102 ,  0.43418622,  0.14663725, ...,  0.38369814,\n",
       "        -0.3333526 , -0.27270252],\n",
       "       [-0.19466557,  0.16739792,  0.13205379, ...,  0.6204294 ,\n",
       "        -0.50449145, -0.5414049 ],\n",
       "       [-0.41036266,  0.32696   ,  0.14186713, ...,  0.41688055,\n",
       "        -0.44970396, -0.4980893 ]], dtype=float32)"
      ]
     },
     "execution_count": 26,
     "metadata": {},
     "output_type": "execute_result"
    }
   ],
   "source": [
    "print(bert_embeddings.shape)\n",
    "bert_embeddings"
   ]
  },
  {
   "cell_type": "markdown",
   "id": "fleet-creek",
   "metadata": {
    "papermill": {
     "duration": 0.040783,
     "end_time": "2021-05-17T12:15:10.262711",
     "exception": false,
     "start_time": "2021-05-17T12:15:10.221928",
     "status": "completed"
    },
    "tags": []
   },
   "source": [
    "### Clear GPU memory"
   ]
  },
  {
   "cell_type": "code",
   "execution_count": 27,
   "id": "handled-chocolate",
   "metadata": {
    "execution": {
     "iopub.execute_input": "2021-05-17T12:15:10.362911Z",
     "iopub.status.busy": "2021-05-17T12:15:10.362188Z",
     "iopub.status.idle": "2021-05-17T12:15:10.364923Z",
     "shell.execute_reply": "2021-05-17T12:15:10.364492Z"
    },
    "papermill": {
     "duration": 0.062485,
     "end_time": "2021-05-17T12:15:10.365026",
     "exception": false,
     "start_time": "2021-05-17T12:15:10.302541",
     "status": "completed"
    },
    "tags": []
   },
   "outputs": [],
   "source": [
    "del bert_model\n",
    "del tokenizer\n",
    "torch.cuda.empty_cache()"
   ]
  },
  {
   "cell_type": "markdown",
   "id": "indian-great",
   "metadata": {
    "papermill": {
     "duration": 0.040208,
     "end_time": "2021-05-17T12:15:10.445848",
     "exception": false,
     "start_time": "2021-05-17T12:15:10.405640",
     "status": "completed"
    },
    "tags": []
   },
   "source": [
    "# 4. Concatenate embeddings"
   ]
  },
  {
   "cell_type": "code",
   "execution_count": 28,
   "id": "nutritional-buddy",
   "metadata": {
    "execution": {
     "iopub.execute_input": "2021-05-17T12:15:10.532772Z",
     "iopub.status.busy": "2021-05-17T12:15:10.531363Z",
     "iopub.status.idle": "2021-05-17T12:15:10.536221Z",
     "shell.execute_reply": "2021-05-17T12:15:10.535829Z"
    },
    "papermill": {
     "duration": 0.050404,
     "end_time": "2021-05-17T12:15:10.536332",
     "exception": false,
     "start_time": "2021-05-17T12:15:10.485928",
     "status": "completed"
    },
    "tags": []
   },
   "outputs": [
    {
     "data": {
      "text/plain": [
       "(3, 2)"
      ]
     },
     "execution_count": 28,
     "metadata": {},
     "output_type": "execute_result"
    }
   ],
   "source": [
    "from sklearn.decomposition import PCA\n",
    "pca = PCA(0.9,whiten=True).fit(bert_embeddings)\n",
    "bert_pca = pca.transform(bert_embeddings)\n",
    "bert_pca.shape"
   ]
  },
  {
   "cell_type": "code",
   "execution_count": 29,
   "id": "split-mileage",
   "metadata": {
    "execution": {
     "iopub.execute_input": "2021-05-17T12:15:10.628368Z",
     "iopub.status.busy": "2021-05-17T12:15:10.627608Z",
     "iopub.status.idle": "2021-05-17T12:15:10.631272Z",
     "shell.execute_reply": "2021-05-17T12:15:10.630868Z"
    },
    "papermill": {
     "duration": 0.051634,
     "end_time": "2021-05-17T12:15:10.631379",
     "exception": false,
     "start_time": "2021-05-17T12:15:10.579745",
     "status": "completed"
    },
    "tags": []
   },
   "outputs": [
    {
     "data": {
      "text/plain": [
       "(3, 4)"
      ]
     },
     "execution_count": 29,
     "metadata": {},
     "output_type": "execute_result"
    }
   ],
   "source": [
    "concat_embeddings = np.concatenate((img_embeddings_pca,bert_pca), axis=1)\n",
    "concat_embeddings.shape"
   ]
  },
  {
   "cell_type": "markdown",
   "id": "hidden-nomination",
   "metadata": {
    "papermill": {
     "duration": 0.043248,
     "end_time": "2021-05-17T12:15:10.716509",
     "exception": false,
     "start_time": "2021-05-17T12:15:10.673261",
     "status": "completed"
    },
    "tags": []
   },
   "source": [
    "### PCA"
   ]
  },
  {
   "cell_type": "code",
   "execution_count": 30,
   "id": "cross-velvet",
   "metadata": {
    "execution": {
     "iopub.execute_input": "2021-05-17T12:15:10.812677Z",
     "iopub.status.busy": "2021-05-17T12:15:10.811708Z",
     "iopub.status.idle": "2021-05-17T12:15:10.814677Z",
     "shell.execute_reply": "2021-05-17T12:15:10.814142Z"
    },
    "papermill": {
     "duration": 0.052785,
     "end_time": "2021-05-17T12:15:10.814811",
     "exception": false,
     "start_time": "2021-05-17T12:15:10.762026",
     "status": "completed"
    },
    "tags": []
   },
   "outputs": [],
   "source": [
    "#from sklearn.decomposition import PCA\n",
    "#pca = PCA(0.9,whiten=True).fit(concat_embeddings)\n",
    "#embeddings_pca2 = pca.transform(concat_embeddings)\n",
    "#embeddings_pca2.shape"
   ]
  },
  {
   "cell_type": "markdown",
   "id": "younger-mention",
   "metadata": {
    "id": "3UHqce4_3zZu",
    "papermill": {
     "duration": 0.043081,
     "end_time": "2021-05-17T12:15:10.902955",
     "exception": false,
     "start_time": "2021-05-17T12:15:10.859874",
     "status": "completed"
    },
    "tags": []
   },
   "source": [
    "# 5. Get most similar instances for each instance\n"
   ]
  },
  {
   "cell_type": "markdown",
   "id": "alone-absorption",
   "metadata": {
    "id": "Py1LnV6T3zZv",
    "papermill": {
     "duration": 0.043998,
     "end_time": "2021-05-17T12:15:10.991035",
     "exception": false,
     "start_time": "2021-05-17T12:15:10.947037",
     "status": "completed"
    },
    "tags": []
   },
   "source": [
    "### [<font color = \"red\"><b>DATA == \"train\"</b></font>] Get postings_ids from `label_group` and get <b><u>ground truth matches</b></u> for training data\n",
    "\n",
    "Here we want to get all the posting ids for a certain label group and use this to get the ground truth matches for each training instance."
   ]
  },
  {
   "cell_type": "code",
   "execution_count": 31,
   "id": "lovely-emperor",
   "metadata": {
    "execution": {
     "iopub.execute_input": "2021-05-17T12:15:11.086352Z",
     "iopub.status.busy": "2021-05-17T12:15:11.085499Z",
     "iopub.status.idle": "2021-05-17T12:15:11.088273Z",
     "shell.execute_reply": "2021-05-17T12:15:11.087881Z"
    },
    "id": "6KFPj-r93zZv",
    "papermill": {
     "duration": 0.053792,
     "end_time": "2021-05-17T12:15:11.088389",
     "exception": false,
     "start_time": "2021-05-17T12:15:11.034597",
     "status": "completed"
    },
    "tags": []
   },
   "outputs": [],
   "source": [
    "if DATA == \"train\":\n",
    "    \n",
    "    # Get label groups\n",
    "    # i.e. list of [249114794, ...]\n",
    "    label_groups = list(dict.fromkeys([row[\"label_group\"] for row in data]))\n",
    "    \n",
    "    # Initialise group2postings dictionary \n",
    "    # i.e. will look like {249114794: \"train_2464356923\" ,34911679: \"train_2464356923 train_3464356923\", ...}\n",
    "    group2postings = {}\n",
    "    for label_group in label_groups:\n",
    "        group2postings[label_group] = \"\"\n",
    "    \n",
    "    # fill in group2postings\n",
    "    # loop over data\n",
    "    for row in data:\n",
    "        \n",
    "        # get label group of data instance\n",
    "        label_group = row[\"label_group\"]\n",
    "        \n",
    "        # if it\"s already in group2postings don\"t add it \n",
    "        if not row[\"posting_id\"] in group2postings[label_group]:\n",
    "            group2postings[label_group] = group2postings[label_group] + \" \".join([row[\"posting_id\"]]) + \" \"\n",
    "    \n",
    "    # strip white space at end\n",
    "    for k in group2postings.keys():\n",
    "        group2postings[k] = group2postings[k].rstrip()\n",
    "    \n",
    "    # get ground truth matches\n",
    "    true_matches = []\n",
    "    for i, row in enumerate(data):\n",
    "        true_matches.append(group2postings[row[\"label_group\"]])"
   ]
  },
  {
   "cell_type": "code",
   "execution_count": 32,
   "id": "missing-enough",
   "metadata": {
    "execution": {
     "iopub.execute_input": "2021-05-17T12:15:11.182129Z",
     "iopub.status.busy": "2021-05-17T12:15:11.181262Z",
     "iopub.status.idle": "2021-05-17T12:15:11.184007Z",
     "shell.execute_reply": "2021-05-17T12:15:11.183575Z"
    },
    "id": "QEImO8j53zZv",
    "outputId": "83b467da-1a02-4ae3-8c53-1f387c7a6ad1",
    "papermill": {
     "duration": 0.051592,
     "end_time": "2021-05-17T12:15:11.184120",
     "exception": false,
     "start_time": "2021-05-17T12:15:11.132528",
     "status": "completed"
    },
    "tags": []
   },
   "outputs": [],
   "source": [
    "if DATA == \"train\":\n",
    "    print(true_matches[:8])"
   ]
  },
  {
   "cell_type": "markdown",
   "id": "metric-wallace",
   "metadata": {
    "papermill": {
     "duration": 0.041184,
     "end_time": "2021-05-17T12:15:11.268511",
     "exception": false,
     "start_time": "2021-05-17T12:15:11.227327",
     "status": "completed"
    },
    "tags": []
   },
   "source": [
    "### Match all postings that have the same perceptual hash\n"
   ]
  },
  {
   "cell_type": "code",
   "execution_count": 33,
   "id": "corrected-million",
   "metadata": {
    "execution": {
     "iopub.execute_input": "2021-05-17T12:15:11.362065Z",
     "iopub.status.busy": "2021-05-17T12:15:11.361361Z",
     "iopub.status.idle": "2021-05-17T12:15:11.364250Z",
     "shell.execute_reply": "2021-05-17T12:15:11.363801Z"
    },
    "papermill": {
     "duration": 0.053102,
     "end_time": "2021-05-17T12:15:11.364350",
     "exception": false,
     "start_time": "2021-05-17T12:15:11.311248",
     "status": "completed"
    },
    "tags": []
   },
   "outputs": [],
   "source": [
    "def match_hashes():\n",
    "    # Get every instance hash\n",
    "    # i.e. list of [249114794, ...]\n",
    "    hashes = list(dict.fromkeys([row[\"image_phash\"] for row in data]))\n",
    "\n",
    "    # Initialise hash2postings dictionary \n",
    "    # i.e. will look like {94974f937d4c2433: \"train_2464356923\" ,94974f937d4c2433: \"train_2464356923 train_3464356923\", ...}\n",
    "    hash2postings = {}\n",
    "    for hash_ in hashes:\n",
    "        hash2postings[hash_] = \"\"\n",
    "\n",
    "    # fill in hash2postings\n",
    "    # loop over data\n",
    "    for row in data:\n",
    "\n",
    "        # get label group of data instance\n",
    "        hash_ = row[\"image_phash\"]\n",
    "\n",
    "        # if it\"s already in hash2postings don\"t add it \n",
    "        if not row[\"posting_id\"] in hash2postings[hash_]:\n",
    "            hash2postings[hash_] = hash2postings[hash_] + \" \".join([row[\"posting_id\"]]) + \" \"\n",
    "\n",
    "    # strip white space at end\n",
    "    for k in hash2postings.keys():\n",
    "        hash2postings[k] = hash2postings[k].rstrip()\n",
    "\n",
    "    # get predicted matches\n",
    "    pred_matches = []\n",
    "    for i, row in enumerate(data):\n",
    "        pred_matches.append(hash2postings[row[\"image_phash\"]])\n",
    "        \n",
    "    return pred_matches"
   ]
  },
  {
   "cell_type": "code",
   "execution_count": 34,
   "id": "intense-metro",
   "metadata": {
    "execution": {
     "iopub.execute_input": "2021-05-17T12:15:11.454603Z",
     "iopub.status.busy": "2021-05-17T12:15:11.453809Z",
     "iopub.status.idle": "2021-05-17T12:15:11.456149Z",
     "shell.execute_reply": "2021-05-17T12:15:11.456564Z"
    },
    "papermill": {
     "duration": 0.049277,
     "end_time": "2021-05-17T12:15:11.456687",
     "exception": false,
     "start_time": "2021-05-17T12:15:11.407410",
     "status": "completed"
    },
    "tags": []
   },
   "outputs": [],
   "source": [
    "baseline_matches = match_hashes()"
   ]
  },
  {
   "cell_type": "markdown",
   "id": "better-excellence",
   "metadata": {
    "id": "xgfGrh2L3zZv",
    "papermill": {
     "duration": 0.044612,
     "end_time": "2021-05-17T12:15:11.545813",
     "exception": false,
     "start_time": "2021-05-17T12:15:11.501201",
     "status": "completed"
    },
    "tags": []
   },
   "source": [
    "### Convert from indices to submission format\n",
    "What we do is calculate the similarity between one test instance and all test instances. The result for one instance is a list of the indices of the most similar instances. For example me might get `[0, 2, 1]` meaning instance 0 is most similar to instance 0, instance 2 and instance 1. So for example if we have `[0, 2, 1]` we need to convert this list to the string <b>'test_2255846744 test_4015706929 test_3588702337'</b>. This is where our `index2ID` dictionary comes in handy ;). We define a function to help us do this conversion:"
   ]
  },
  {
   "cell_type": "code",
   "execution_count": 35,
   "id": "smooth-defensive",
   "metadata": {
    "execution": {
     "iopub.execute_input": "2021-05-17T12:15:11.640218Z",
     "iopub.status.busy": "2021-05-17T12:15:11.639320Z",
     "iopub.status.idle": "2021-05-17T12:15:11.642094Z",
     "shell.execute_reply": "2021-05-17T12:15:11.641628Z"
    },
    "id": "5oXpilgR3zZw",
    "papermill": {
     "duration": 0.052464,
     "end_time": "2021-05-17T12:15:11.642211",
     "exception": false,
     "start_time": "2021-05-17T12:15:11.589747",
     "status": "completed"
    },
    "tags": []
   },
   "outputs": [],
   "source": [
    "def indices_to_submission_format(indices):\n",
    "    return \" \".join([index2ID[i] for i in indices])"
   ]
  },
  {
   "cell_type": "markdown",
   "id": "revised-prince",
   "metadata": {
    "id": "fGJ1VOoE3zZw",
    "papermill": {
     "duration": 0.041094,
     "end_time": "2021-05-17T12:15:11.726541",
     "exception": false,
     "start_time": "2021-05-17T12:15:11.685447",
     "status": "completed"
    },
    "tags": []
   },
   "source": [
    "### Predict matches for each instance\n",
    "For this we define a function `predict_matches` that creates a list of the matches for every instance. We use cosine similarity.  "
   ]
  },
  {
   "cell_type": "code",
   "execution_count": 36,
   "id": "ideal-combat",
   "metadata": {
    "execution": {
     "iopub.execute_input": "2021-05-17T12:15:11.815935Z",
     "iopub.status.busy": "2021-05-17T12:15:11.815208Z",
     "iopub.status.idle": "2021-05-17T12:15:11.817825Z",
     "shell.execute_reply": "2021-05-17T12:15:11.817425Z"
    },
    "id": "VxrZmLzz3zZw",
    "papermill": {
     "duration": 0.050103,
     "end_time": "2021-05-17T12:15:11.817930",
     "exception": false,
     "start_time": "2021-05-17T12:15:11.767827",
     "status": "completed"
    },
    "tags": []
   },
   "outputs": [],
   "source": [
    "def predict_matches(baseline_matches, embeddings, threshold):\n",
    "    \n",
    "    matches = []\n",
    "    print(embeddings.shape)\n",
    "    emb = cp.array(embeddings)\n",
    "    emb =  emb / cp.linalg.norm(emb, axis=1)[:,None]\n",
    "    N = emb.shape[0]\n",
    "\n",
    "    for i in tqdm(range(N)):\n",
    "        v = emb[i, :]\n",
    "        thresholded_bool = cp.dot(emb,v) > threshold\n",
    "        thresholded_ix = cp.argwhere(thresholded_bool).squeeze(-1)\n",
    "        thresholded_ix = thresholded_ix.get()\n",
    "        match = \" \".join([indices_to_submission_format(thresholded_ix)])\n",
    "        new_match = \" \".join(list(set(match.split()).union(set(baseline_matches[i].split()))))\n",
    "        matches.append(new_match)\n",
    "\n",
    "    return matches"
   ]
  },
  {
   "cell_type": "markdown",
   "id": "prime-virtue",
   "metadata": {
    "id": "qaS53W4a3zZw",
    "papermill": {
     "duration": 0.041381,
     "end_time": "2021-05-17T12:15:11.900347",
     "exception": false,
     "start_time": "2021-05-17T12:15:11.858966",
     "status": "completed"
    },
    "tags": []
   },
   "source": [
    "### [<font color = \"red\"><b>DATA == \"train\"</b></font>] F1-score on training data\n",
    "Here we determine how well our predicted matches are on the training data."
   ]
  },
  {
   "cell_type": "code",
   "execution_count": 37,
   "id": "computational-seattle",
   "metadata": {
    "execution": {
     "iopub.execute_input": "2021-05-17T12:15:11.992389Z",
     "iopub.status.busy": "2021-05-17T12:15:11.991354Z",
     "iopub.status.idle": "2021-05-17T12:15:11.993652Z",
     "shell.execute_reply": "2021-05-17T12:15:11.994072Z"
    },
    "id": "fxZT9aoS3zZw",
    "papermill": {
     "duration": 0.050952,
     "end_time": "2021-05-17T12:15:11.994191",
     "exception": false,
     "start_time": "2021-05-17T12:15:11.943239",
     "status": "completed"
    },
    "tags": []
   },
   "outputs": [],
   "source": [
    "def f1(y_true, y_pred):\n",
    "    # F1 score calculated for each data instance\n",
    "    # We return the average\n",
    "\n",
    "    y_true = list(map(lambda x: set(x.split()), y_true))\n",
    "    y_pred = list(map(lambda x: set(x.split()), y_pred))\n",
    "\n",
    "    tp = np.array([len(x[0] & x[1]) for x in zip(y_true, y_pred)])\n",
    "    fp = np.array(list(map(lambda x: len(x), y_pred))) - tp\n",
    "    fn = np.array(list(map(lambda x: len(x), y_true))) - tp\n",
    "\n",
    "    precision = tp / (tp + fp)\n",
    "    recall = tp / (tp + fn)\n",
    "    f1 = 2 * ((precision * recall) / (precision + recall))\n",
    "    return f1.mean()"
   ]
  },
  {
   "cell_type": "markdown",
   "id": "photographic-report",
   "metadata": {
    "id": "MWiJy4dn3zZx",
    "papermill": {
     "duration": 0.041922,
     "end_time": "2021-05-17T12:15:12.078809",
     "exception": false,
     "start_time": "2021-05-17T12:15:12.036887",
     "status": "completed"
    },
    "tags": []
   },
   "source": [
    "### [<font color = \"red\"><b>DATA == \"train\"</b></font>] Hyperparameter search for the threshold $t$\n",
    "<b>(Or inference in testing case)</b>"
   ]
  },
  {
   "cell_type": "markdown",
   "id": "aggressive-queue",
   "metadata": {
    "id": "IAeVha3R3zZx",
    "papermill": {
     "duration": 0.041188,
     "end_time": "2021-05-17T12:15:12.162094",
     "exception": false,
     "start_time": "2021-05-17T12:15:12.120906",
     "status": "completed"
    },
    "tags": []
   },
   "source": [
    "We need to **define a threshold** to determine what is a similar instance. For example me might define the threshold at 0.998 meaning we consider two test instances the same if instance two is at least 99.8% similar to instance one."
   ]
  },
  {
   "cell_type": "code",
   "execution_count": 38,
   "id": "competitive-mount",
   "metadata": {
    "execution": {
     "iopub.execute_input": "2021-05-17T12:15:12.252538Z",
     "iopub.status.busy": "2021-05-17T12:15:12.251817Z",
     "iopub.status.idle": "2021-05-17T12:15:13.820577Z",
     "shell.execute_reply": "2021-05-17T12:15:13.820122Z"
    },
    "id": "blZ6EINK3zZx",
    "outputId": "2c1cfc39-9d8b-4cef-e667-beea4f8cfbdd",
    "papermill": {
     "duration": 1.616314,
     "end_time": "2021-05-17T12:15:13.820691",
     "exception": false,
     "start_time": "2021-05-17T12:15:12.204377",
     "status": "completed"
    },
    "tags": []
   },
   "outputs": [
    {
     "name": "stdout",
     "output_type": "stream",
     "text": [
      "(3, 4)\n"
     ]
    },
    {
     "data": {
      "application/vnd.jupyter.widget-view+json": {
       "model_id": "d9356523e30f4a51bd432b8e766f989e",
       "version_major": 2,
       "version_minor": 0
      },
      "text/plain": [
       "  0%|          | 0/3 [00:00<?, ?it/s]"
      ]
     },
     "metadata": {},
     "output_type": "display_data"
    }
   ],
   "source": [
    "if DATA == \"train\":\n",
    "    for t in [0.46]: # 0.42 | PCA 0.9\n",
    "        print(f\"t: {t}, F1: {f1(predict_matches(baseline_matches,concat_embeddings,t),true_matches).mean()}\")\n",
    "elif DATA == \"test\":\n",
    "    matches = predict_matches(baseline_matches,concat_embeddings,0.46)"
   ]
  },
  {
   "cell_type": "markdown",
   "id": "outside-synthesis",
   "metadata": {
    "papermill": {
     "duration": 0.041998,
     "end_time": "2021-05-17T12:15:13.905599",
     "exception": false,
     "start_time": "2021-05-17T12:15:13.863601",
     "status": "completed"
    },
    "tags": []
   },
   "source": [
    "### Train results"
   ]
  },
  {
   "cell_type": "markdown",
   "id": "numerous-award",
   "metadata": {
    "papermill": {
     "duration": 0.042212,
     "end_time": "2021-05-17T12:15:13.989952",
     "exception": false,
     "start_time": "2021-05-17T12:15:13.947740",
     "status": "completed"
    },
    "tags": []
   },
   "source": [
    "| $t$ | F1 |\n",
    "|----|----|\n",
    "|0.3 | 0.663|\n",
    "|0.35 |0.68277    |\n",
    "|<b>0.4</b> | <b>0.6875</b>    |\n",
    "| 0.42 | 0.6871  |\n",
    "| 0.45 | 0.6839  |\n",
    "| 0.5| 0.6783  |\n",
    "| 0.7  |  0.63760 |\n",
    "| 0.8 | 0.6144  |"
   ]
  },
  {
   "cell_type": "markdown",
   "id": "northern-footage",
   "metadata": {
    "id": "G17bHu203zZy",
    "papermill": {
     "duration": 0.045902,
     "end_time": "2021-05-17T12:15:14.078701",
     "exception": false,
     "start_time": "2021-05-17T12:15:14.032799",
     "status": "completed"
    },
    "tags": []
   },
   "source": [
    "# 6. [<font color = \"red\"><b>DATA == \"test\"</b></font>] Submit\n",
    "Finally we can create the submission.csv file"
   ]
  },
  {
   "cell_type": "code",
   "execution_count": 39,
   "id": "spoken-tyler",
   "metadata": {
    "execution": {
     "iopub.execute_input": "2021-05-17T12:15:14.168853Z",
     "iopub.status.busy": "2021-05-17T12:15:14.168069Z",
     "iopub.status.idle": "2021-05-17T12:15:14.292031Z",
     "shell.execute_reply": "2021-05-17T12:15:14.291577Z"
    },
    "id": "b5rByk-u3zZy",
    "papermill": {
     "duration": 0.171278,
     "end_time": "2021-05-17T12:15:14.292152",
     "exception": false,
     "start_time": "2021-05-17T12:15:14.120874",
     "status": "completed"
    },
    "tags": []
   },
   "outputs": [],
   "source": [
    "if DATA == \"test\":\n",
    "    submission = pd.DataFrame({\"posting_id\": posting_ids, \"matches\": matches})\n",
    "    submission.to_csv(\"submission.csv\", index=False)"
   ]
  },
  {
   "cell_type": "code",
   "execution_count": 40,
   "id": "moderate-single",
   "metadata": {
    "execution": {
     "iopub.execute_input": "2021-05-17T12:15:14.407373Z",
     "iopub.status.busy": "2021-05-17T12:15:14.381743Z",
     "iopub.status.idle": "2021-05-17T12:15:15.063459Z",
     "shell.execute_reply": "2021-05-17T12:15:15.063900Z"
    },
    "id": "NvStg9-v3zZy",
    "papermill": {
     "duration": 0.729293,
     "end_time": "2021-05-17T12:15:15.064083",
     "exception": false,
     "start_time": "2021-05-17T12:15:14.334790",
     "status": "completed"
    },
    "tags": []
   },
   "outputs": [
    {
     "name": "stdout",
     "output_type": "stream",
     "text": [
      "posting_id,matches\r\n",
      "test_2255846744,test_2255846744\r\n",
      "test_3588702337,test_3588702337\r\n"
     ]
    }
   ],
   "source": [
    "if DATA == \"test\":\n",
    "    !head -n 3 /kaggle/working/submission.csv"
   ]
  }
 ],
 "metadata": {
  "kernelspec": {
   "display_name": "Python 3",
   "language": "python",
   "name": "python3"
  },
  "language_info": {
   "codemirror_mode": {
    "name": "ipython",
    "version": 3
   },
   "file_extension": ".py",
   "mimetype": "text/x-python",
   "name": "python",
   "nbconvert_exporter": "python",
   "pygments_lexer": "ipython3",
   "version": "3.7.10"
  },
  "papermill": {
   "default_parameters": {},
   "duration": 107.791519,
   "end_time": "2021-05-17T12:15:17.998704",
   "environment_variables": {},
   "exception": null,
   "input_path": "__notebook__.ipynb",
   "output_path": "__notebook__.ipynb",
   "parameters": {},
   "start_time": "2021-05-17T12:13:30.207185",
   "version": "2.3.3"
  },
  "widgets": {
   "application/vnd.jupyter.widget-state+json": {
    "state": {
     "0e62773c3bef45339601b30bfe9f3fe3": {
      "model_module": "@jupyter-widgets/base",
      "model_module_version": "1.2.0",
      "model_name": "LayoutModel",
      "state": {
       "_model_module": "@jupyter-widgets/base",
       "_model_module_version": "1.2.0",
       "_model_name": "LayoutModel",
       "_view_count": null,
       "_view_module": "@jupyter-widgets/base",
       "_view_module_version": "1.2.0",
       "_view_name": "LayoutView",
       "align_content": null,
       "align_items": null,
       "align_self": null,
       "border": null,
       "bottom": null,
       "display": null,
       "flex": null,
       "flex_flow": null,
       "grid_area": null,
       "grid_auto_columns": null,
       "grid_auto_flow": null,
       "grid_auto_rows": null,
       "grid_column": null,
       "grid_gap": null,
       "grid_row": null,
       "grid_template_areas": null,
       "grid_template_columns": null,
       "grid_template_rows": null,
       "height": null,
       "justify_content": null,
       "justify_items": null,
       "left": null,
       "margin": null,
       "max_height": null,
       "max_width": null,
       "min_height": null,
       "min_width": null,
       "object_fit": null,
       "object_position": null,
       "order": null,
       "overflow": null,
       "overflow_x": null,
       "overflow_y": null,
       "padding": null,
       "right": null,
       "top": null,
       "visibility": null,
       "width": null
      }
     },
     "1c526bbf3d914beca25e4c8dffb3194f": {
      "model_module": "@jupyter-widgets/base",
      "model_module_version": "1.2.0",
      "model_name": "LayoutModel",
      "state": {
       "_model_module": "@jupyter-widgets/base",
       "_model_module_version": "1.2.0",
       "_model_name": "LayoutModel",
       "_view_count": null,
       "_view_module": "@jupyter-widgets/base",
       "_view_module_version": "1.2.0",
       "_view_name": "LayoutView",
       "align_content": null,
       "align_items": null,
       "align_self": null,
       "border": null,
       "bottom": null,
       "display": null,
       "flex": null,
       "flex_flow": null,
       "grid_area": null,
       "grid_auto_columns": null,
       "grid_auto_flow": null,
       "grid_auto_rows": null,
       "grid_column": null,
       "grid_gap": null,
       "grid_row": null,
       "grid_template_areas": null,
       "grid_template_columns": null,
       "grid_template_rows": null,
       "height": null,
       "justify_content": null,
       "justify_items": null,
       "left": null,
       "margin": null,
       "max_height": null,
       "max_width": null,
       "min_height": null,
       "min_width": null,
       "object_fit": null,
       "object_position": null,
       "order": null,
       "overflow": null,
       "overflow_x": null,
       "overflow_y": null,
       "padding": null,
       "right": null,
       "top": null,
       "visibility": null,
       "width": null
      }
     },
     "2c2f67e00dac44da86f9ee4f262992cb": {
      "model_module": "@jupyter-widgets/base",
      "model_module_version": "1.2.0",
      "model_name": "LayoutModel",
      "state": {
       "_model_module": "@jupyter-widgets/base",
       "_model_module_version": "1.2.0",
       "_model_name": "LayoutModel",
       "_view_count": null,
       "_view_module": "@jupyter-widgets/base",
       "_view_module_version": "1.2.0",
       "_view_name": "LayoutView",
       "align_content": null,
       "align_items": null,
       "align_self": null,
       "border": null,
       "bottom": null,
       "display": null,
       "flex": null,
       "flex_flow": null,
       "grid_area": null,
       "grid_auto_columns": null,
       "grid_auto_flow": null,
       "grid_auto_rows": null,
       "grid_column": null,
       "grid_gap": null,
       "grid_row": null,
       "grid_template_areas": null,
       "grid_template_columns": null,
       "grid_template_rows": null,
       "height": null,
       "justify_content": null,
       "justify_items": null,
       "left": null,
       "margin": null,
       "max_height": null,
       "max_width": null,
       "min_height": null,
       "min_width": null,
       "object_fit": null,
       "object_position": null,
       "order": null,
       "overflow": null,
       "overflow_x": null,
       "overflow_y": null,
       "padding": null,
       "right": null,
       "top": null,
       "visibility": null,
       "width": null
      }
     },
     "35d9d3af25204bcf9dec5d4d3133f91d": {
      "model_module": "@jupyter-widgets/controls",
      "model_module_version": "1.5.0",
      "model_name": "ProgressStyleModel",
      "state": {
       "_model_module": "@jupyter-widgets/controls",
       "_model_module_version": "1.5.0",
       "_model_name": "ProgressStyleModel",
       "_view_count": null,
       "_view_module": "@jupyter-widgets/base",
       "_view_module_version": "1.2.0",
       "_view_name": "StyleView",
       "bar_color": null,
       "description_width": ""
      }
     },
     "3e78bea1fbc14dd59c6852a0939ae0e5": {
      "model_module": "@jupyter-widgets/base",
      "model_module_version": "1.2.0",
      "model_name": "LayoutModel",
      "state": {
       "_model_module": "@jupyter-widgets/base",
       "_model_module_version": "1.2.0",
       "_model_name": "LayoutModel",
       "_view_count": null,
       "_view_module": "@jupyter-widgets/base",
       "_view_module_version": "1.2.0",
       "_view_name": "LayoutView",
       "align_content": null,
       "align_items": null,
       "align_self": null,
       "border": null,
       "bottom": null,
       "display": null,
       "flex": null,
       "flex_flow": null,
       "grid_area": null,
       "grid_auto_columns": null,
       "grid_auto_flow": null,
       "grid_auto_rows": null,
       "grid_column": null,
       "grid_gap": null,
       "grid_row": null,
       "grid_template_areas": null,
       "grid_template_columns": null,
       "grid_template_rows": null,
       "height": null,
       "justify_content": null,
       "justify_items": null,
       "left": null,
       "margin": null,
       "max_height": null,
       "max_width": null,
       "min_height": null,
       "min_width": null,
       "object_fit": null,
       "object_position": null,
       "order": null,
       "overflow": null,
       "overflow_x": null,
       "overflow_y": null,
       "padding": null,
       "right": null,
       "top": null,
       "visibility": null,
       "width": null
      }
     },
     "64811ce6dbf64081a74da266be6a6016": {
      "model_module": "@jupyter-widgets/controls",
      "model_module_version": "1.5.0",
      "model_name": "DescriptionStyleModel",
      "state": {
       "_model_module": "@jupyter-widgets/controls",
       "_model_module_version": "1.5.0",
       "_model_name": "DescriptionStyleModel",
       "_view_count": null,
       "_view_module": "@jupyter-widgets/base",
       "_view_module_version": "1.2.0",
       "_view_name": "StyleView",
       "description_width": ""
      }
     },
     "979297d91f384abdb08ca90e04c208fc": {
      "model_module": "@jupyter-widgets/controls",
      "model_module_version": "1.5.0",
      "model_name": "FloatProgressModel",
      "state": {
       "_dom_classes": [],
       "_model_module": "@jupyter-widgets/controls",
       "_model_module_version": "1.5.0",
       "_model_name": "FloatProgressModel",
       "_view_count": null,
       "_view_module": "@jupyter-widgets/controls",
       "_view_module_version": "1.5.0",
       "_view_name": "ProgressView",
       "bar_style": "success",
       "description": "",
       "description_tooltip": null,
       "layout": "IPY_MODEL_2c2f67e00dac44da86f9ee4f262992cb",
       "max": 3.0,
       "min": 0.0,
       "orientation": "horizontal",
       "style": "IPY_MODEL_35d9d3af25204bcf9dec5d4d3133f91d",
       "value": 3.0
      }
     },
     "a6c1538611be414a80b2d61a62c728e1": {
      "model_module": "@jupyter-widgets/controls",
      "model_module_version": "1.5.0",
      "model_name": "HTMLModel",
      "state": {
       "_dom_classes": [],
       "_model_module": "@jupyter-widgets/controls",
       "_model_module_version": "1.5.0",
       "_model_name": "HTMLModel",
       "_view_count": null,
       "_view_module": "@jupyter-widgets/controls",
       "_view_module_version": "1.5.0",
       "_view_name": "HTMLView",
       "description": "",
       "description_tooltip": null,
       "layout": "IPY_MODEL_1c526bbf3d914beca25e4c8dffb3194f",
       "placeholder": "​",
       "style": "IPY_MODEL_64811ce6dbf64081a74da266be6a6016",
       "value": " 3/3 [00:00&lt;00:00,  1.37it/s]"
      }
     },
     "d9356523e30f4a51bd432b8e766f989e": {
      "model_module": "@jupyter-widgets/controls",
      "model_module_version": "1.5.0",
      "model_name": "HBoxModel",
      "state": {
       "_dom_classes": [],
       "_model_module": "@jupyter-widgets/controls",
       "_model_module_version": "1.5.0",
       "_model_name": "HBoxModel",
       "_view_count": null,
       "_view_module": "@jupyter-widgets/controls",
       "_view_module_version": "1.5.0",
       "_view_name": "HBoxView",
       "box_style": "",
       "children": [
        "IPY_MODEL_da8e7b26179c4fc2b830bf6ffd027aa4",
        "IPY_MODEL_979297d91f384abdb08ca90e04c208fc",
        "IPY_MODEL_a6c1538611be414a80b2d61a62c728e1"
       ],
       "layout": "IPY_MODEL_3e78bea1fbc14dd59c6852a0939ae0e5"
      }
     },
     "da8e7b26179c4fc2b830bf6ffd027aa4": {
      "model_module": "@jupyter-widgets/controls",
      "model_module_version": "1.5.0",
      "model_name": "HTMLModel",
      "state": {
       "_dom_classes": [],
       "_model_module": "@jupyter-widgets/controls",
       "_model_module_version": "1.5.0",
       "_model_name": "HTMLModel",
       "_view_count": null,
       "_view_module": "@jupyter-widgets/controls",
       "_view_module_version": "1.5.0",
       "_view_name": "HTMLView",
       "description": "",
       "description_tooltip": null,
       "layout": "IPY_MODEL_0e62773c3bef45339601b30bfe9f3fe3",
       "placeholder": "​",
       "style": "IPY_MODEL_e9b6f4072f624a9da5b57efb9bc36979",
       "value": "100%"
      }
     },
     "e9b6f4072f624a9da5b57efb9bc36979": {
      "model_module": "@jupyter-widgets/controls",
      "model_module_version": "1.5.0",
      "model_name": "DescriptionStyleModel",
      "state": {
       "_model_module": "@jupyter-widgets/controls",
       "_model_module_version": "1.5.0",
       "_model_name": "DescriptionStyleModel",
       "_view_count": null,
       "_view_module": "@jupyter-widgets/base",
       "_view_module_version": "1.2.0",
       "_view_name": "StyleView",
       "description_width": ""
      }
     }
    },
    "version_major": 2,
    "version_minor": 0
   }
  }
 },
 "nbformat": 4,
 "nbformat_minor": 5
}
