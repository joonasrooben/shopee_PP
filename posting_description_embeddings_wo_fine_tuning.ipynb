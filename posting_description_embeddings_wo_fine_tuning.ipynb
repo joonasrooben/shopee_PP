{
  "nbformat": 4,
  "nbformat_minor": 0,
  "metadata": {
    "colab": {
      "name": "posting_description_embeddings_wo_fine-tuning.ipynb",
      "provenance": [],
      "collapsed_sections": [],
      "toc_visible": true
    },
    "kernelspec": {
      "name": "python3",
      "display_name": "Python 3"
    },
    "language_info": {
      "name": "python"
    },
    "accelerator": "GPU",
    "widgets": {
      "application/vnd.jupyter.widget-state+json": {
        "5b3ba0c18d4b46bfad00e832257bf716": {
          "model_module": "@jupyter-widgets/controls",
          "model_name": "HBoxModel",
          "state": {
            "_view_name": "HBoxView",
            "_dom_classes": [],
            "_model_name": "HBoxModel",
            "_view_module": "@jupyter-widgets/controls",
            "_model_module_version": "1.5.0",
            "_view_count": null,
            "_view_module_version": "1.5.0",
            "box_style": "",
            "layout": "IPY_MODEL_fb0b3cb8106e4f39a97c63999546bd02",
            "_model_module": "@jupyter-widgets/controls",
            "children": [
              "IPY_MODEL_a8218b6b77854afead89f2752f2b13ef",
              "IPY_MODEL_502e7a8c31c846b9a1b9eeddc78fda43"
            ]
          }
        },
        "fb0b3cb8106e4f39a97c63999546bd02": {
          "model_module": "@jupyter-widgets/base",
          "model_name": "LayoutModel",
          "state": {
            "_view_name": "LayoutView",
            "grid_template_rows": null,
            "right": null,
            "justify_content": null,
            "_view_module": "@jupyter-widgets/base",
            "overflow": null,
            "_model_module_version": "1.2.0",
            "_view_count": null,
            "flex_flow": null,
            "width": null,
            "min_width": null,
            "border": null,
            "align_items": null,
            "bottom": null,
            "_model_module": "@jupyter-widgets/base",
            "top": null,
            "grid_column": null,
            "overflow_y": null,
            "overflow_x": null,
            "grid_auto_flow": null,
            "grid_area": null,
            "grid_template_columns": null,
            "flex": null,
            "_model_name": "LayoutModel",
            "justify_items": null,
            "grid_row": null,
            "max_height": null,
            "align_content": null,
            "visibility": null,
            "align_self": null,
            "height": null,
            "min_height": null,
            "padding": null,
            "grid_auto_rows": null,
            "grid_gap": null,
            "max_width": null,
            "order": null,
            "_view_module_version": "1.2.0",
            "grid_template_areas": null,
            "object_position": null,
            "object_fit": null,
            "grid_auto_columns": null,
            "margin": null,
            "display": null,
            "left": null
          }
        },
        "a8218b6b77854afead89f2752f2b13ef": {
          "model_module": "@jupyter-widgets/controls",
          "model_name": "FloatProgressModel",
          "state": {
            "_view_name": "ProgressView",
            "style": "IPY_MODEL_1392aa4aedf743d6ba6e4c6994d29ab2",
            "_dom_classes": [],
            "description": "Downloading: 100%",
            "_model_name": "FloatProgressModel",
            "bar_style": "success",
            "max": 442,
            "_view_module": "@jupyter-widgets/controls",
            "_model_module_version": "1.5.0",
            "value": 442,
            "_view_count": null,
            "_view_module_version": "1.5.0",
            "orientation": "horizontal",
            "min": 0,
            "description_tooltip": null,
            "_model_module": "@jupyter-widgets/controls",
            "layout": "IPY_MODEL_e9bc7a623f804e13a4eb75c9aeaa2a20"
          }
        },
        "502e7a8c31c846b9a1b9eeddc78fda43": {
          "model_module": "@jupyter-widgets/controls",
          "model_name": "HTMLModel",
          "state": {
            "_view_name": "HTMLView",
            "style": "IPY_MODEL_91d75f1e75554bf482e6fdbed70215aa",
            "_dom_classes": [],
            "description": "",
            "_model_name": "HTMLModel",
            "placeholder": "​",
            "_view_module": "@jupyter-widgets/controls",
            "_model_module_version": "1.5.0",
            "value": " 442/442 [00:01&lt;00:00, 421B/s]",
            "_view_count": null,
            "_view_module_version": "1.5.0",
            "description_tooltip": null,
            "_model_module": "@jupyter-widgets/controls",
            "layout": "IPY_MODEL_41c0c6ed6390410aab8313b9093cfd99"
          }
        },
        "1392aa4aedf743d6ba6e4c6994d29ab2": {
          "model_module": "@jupyter-widgets/controls",
          "model_name": "ProgressStyleModel",
          "state": {
            "_view_name": "StyleView",
            "_model_name": "ProgressStyleModel",
            "description_width": "initial",
            "_view_module": "@jupyter-widgets/base",
            "_model_module_version": "1.5.0",
            "_view_count": null,
            "_view_module_version": "1.2.0",
            "bar_color": null,
            "_model_module": "@jupyter-widgets/controls"
          }
        },
        "e9bc7a623f804e13a4eb75c9aeaa2a20": {
          "model_module": "@jupyter-widgets/base",
          "model_name": "LayoutModel",
          "state": {
            "_view_name": "LayoutView",
            "grid_template_rows": null,
            "right": null,
            "justify_content": null,
            "_view_module": "@jupyter-widgets/base",
            "overflow": null,
            "_model_module_version": "1.2.0",
            "_view_count": null,
            "flex_flow": null,
            "width": null,
            "min_width": null,
            "border": null,
            "align_items": null,
            "bottom": null,
            "_model_module": "@jupyter-widgets/base",
            "top": null,
            "grid_column": null,
            "overflow_y": null,
            "overflow_x": null,
            "grid_auto_flow": null,
            "grid_area": null,
            "grid_template_columns": null,
            "flex": null,
            "_model_name": "LayoutModel",
            "justify_items": null,
            "grid_row": null,
            "max_height": null,
            "align_content": null,
            "visibility": null,
            "align_self": null,
            "height": null,
            "min_height": null,
            "padding": null,
            "grid_auto_rows": null,
            "grid_gap": null,
            "max_width": null,
            "order": null,
            "_view_module_version": "1.2.0",
            "grid_template_areas": null,
            "object_position": null,
            "object_fit": null,
            "grid_auto_columns": null,
            "margin": null,
            "display": null,
            "left": null
          }
        },
        "91d75f1e75554bf482e6fdbed70215aa": {
          "model_module": "@jupyter-widgets/controls",
          "model_name": "DescriptionStyleModel",
          "state": {
            "_view_name": "StyleView",
            "_model_name": "DescriptionStyleModel",
            "description_width": "",
            "_view_module": "@jupyter-widgets/base",
            "_model_module_version": "1.5.0",
            "_view_count": null,
            "_view_module_version": "1.2.0",
            "_model_module": "@jupyter-widgets/controls"
          }
        },
        "41c0c6ed6390410aab8313b9093cfd99": {
          "model_module": "@jupyter-widgets/base",
          "model_name": "LayoutModel",
          "state": {
            "_view_name": "LayoutView",
            "grid_template_rows": null,
            "right": null,
            "justify_content": null,
            "_view_module": "@jupyter-widgets/base",
            "overflow": null,
            "_model_module_version": "1.2.0",
            "_view_count": null,
            "flex_flow": null,
            "width": null,
            "min_width": null,
            "border": null,
            "align_items": null,
            "bottom": null,
            "_model_module": "@jupyter-widgets/base",
            "top": null,
            "grid_column": null,
            "overflow_y": null,
            "overflow_x": null,
            "grid_auto_flow": null,
            "grid_area": null,
            "grid_template_columns": null,
            "flex": null,
            "_model_name": "LayoutModel",
            "justify_items": null,
            "grid_row": null,
            "max_height": null,
            "align_content": null,
            "visibility": null,
            "align_self": null,
            "height": null,
            "min_height": null,
            "padding": null,
            "grid_auto_rows": null,
            "grid_gap": null,
            "max_width": null,
            "order": null,
            "_view_module_version": "1.2.0",
            "grid_template_areas": null,
            "object_position": null,
            "object_fit": null,
            "grid_auto_columns": null,
            "margin": null,
            "display": null,
            "left": null
          }
        },
        "6d327150d77c4c6da4bea7ecfc616dac": {
          "model_module": "@jupyter-widgets/controls",
          "model_name": "HBoxModel",
          "state": {
            "_view_name": "HBoxView",
            "_dom_classes": [],
            "_model_name": "HBoxModel",
            "_view_module": "@jupyter-widgets/controls",
            "_model_module_version": "1.5.0",
            "_view_count": null,
            "_view_module_version": "1.5.0",
            "box_style": "",
            "layout": "IPY_MODEL_e179e76d082b46429778ef324cf9b3c0",
            "_model_module": "@jupyter-widgets/controls",
            "children": [
              "IPY_MODEL_e73048c4d810449e9e7b77e04be71d4d",
              "IPY_MODEL_c9488f36be944897b381c228e4f4dc0c"
            ]
          }
        },
        "e179e76d082b46429778ef324cf9b3c0": {
          "model_module": "@jupyter-widgets/base",
          "model_name": "LayoutModel",
          "state": {
            "_view_name": "LayoutView",
            "grid_template_rows": null,
            "right": null,
            "justify_content": null,
            "_view_module": "@jupyter-widgets/base",
            "overflow": null,
            "_model_module_version": "1.2.0",
            "_view_count": null,
            "flex_flow": null,
            "width": null,
            "min_width": null,
            "border": null,
            "align_items": null,
            "bottom": null,
            "_model_module": "@jupyter-widgets/base",
            "top": null,
            "grid_column": null,
            "overflow_y": null,
            "overflow_x": null,
            "grid_auto_flow": null,
            "grid_area": null,
            "grid_template_columns": null,
            "flex": null,
            "_model_name": "LayoutModel",
            "justify_items": null,
            "grid_row": null,
            "max_height": null,
            "align_content": null,
            "visibility": null,
            "align_self": null,
            "height": null,
            "min_height": null,
            "padding": null,
            "grid_auto_rows": null,
            "grid_gap": null,
            "max_width": null,
            "order": null,
            "_view_module_version": "1.2.0",
            "grid_template_areas": null,
            "object_position": null,
            "object_fit": null,
            "grid_auto_columns": null,
            "margin": null,
            "display": null,
            "left": null
          }
        },
        "e73048c4d810449e9e7b77e04be71d4d": {
          "model_module": "@jupyter-widgets/controls",
          "model_name": "FloatProgressModel",
          "state": {
            "_view_name": "ProgressView",
            "style": "IPY_MODEL_a607f2383b70407e97967a3c35ec9ad8",
            "_dom_classes": [],
            "description": "Downloading: 100%",
            "_model_name": "FloatProgressModel",
            "bar_style": "success",
            "max": 267967963,
            "_view_module": "@jupyter-widgets/controls",
            "_model_module_version": "1.5.0",
            "value": 267967963,
            "_view_count": null,
            "_view_module_version": "1.5.0",
            "orientation": "horizontal",
            "min": 0,
            "description_tooltip": null,
            "_model_module": "@jupyter-widgets/controls",
            "layout": "IPY_MODEL_431cb80a697f48acbea5418f6137b77f"
          }
        },
        "c9488f36be944897b381c228e4f4dc0c": {
          "model_module": "@jupyter-widgets/controls",
          "model_name": "HTMLModel",
          "state": {
            "_view_name": "HTMLView",
            "style": "IPY_MODEL_ada71df2379145abaae33fab387ab8cb",
            "_dom_classes": [],
            "description": "",
            "_model_name": "HTMLModel",
            "placeholder": "​",
            "_view_module": "@jupyter-widgets/controls",
            "_model_module_version": "1.5.0",
            "value": " 268M/268M [00:08&lt;00:00, 31.3MB/s]",
            "_view_count": null,
            "_view_module_version": "1.5.0",
            "description_tooltip": null,
            "_model_module": "@jupyter-widgets/controls",
            "layout": "IPY_MODEL_9b2443cd328a453fbe69b9897f5ce820"
          }
        },
        "a607f2383b70407e97967a3c35ec9ad8": {
          "model_module": "@jupyter-widgets/controls",
          "model_name": "ProgressStyleModel",
          "state": {
            "_view_name": "StyleView",
            "_model_name": "ProgressStyleModel",
            "description_width": "initial",
            "_view_module": "@jupyter-widgets/base",
            "_model_module_version": "1.5.0",
            "_view_count": null,
            "_view_module_version": "1.2.0",
            "bar_color": null,
            "_model_module": "@jupyter-widgets/controls"
          }
        },
        "431cb80a697f48acbea5418f6137b77f": {
          "model_module": "@jupyter-widgets/base",
          "model_name": "LayoutModel",
          "state": {
            "_view_name": "LayoutView",
            "grid_template_rows": null,
            "right": null,
            "justify_content": null,
            "_view_module": "@jupyter-widgets/base",
            "overflow": null,
            "_model_module_version": "1.2.0",
            "_view_count": null,
            "flex_flow": null,
            "width": null,
            "min_width": null,
            "border": null,
            "align_items": null,
            "bottom": null,
            "_model_module": "@jupyter-widgets/base",
            "top": null,
            "grid_column": null,
            "overflow_y": null,
            "overflow_x": null,
            "grid_auto_flow": null,
            "grid_area": null,
            "grid_template_columns": null,
            "flex": null,
            "_model_name": "LayoutModel",
            "justify_items": null,
            "grid_row": null,
            "max_height": null,
            "align_content": null,
            "visibility": null,
            "align_self": null,
            "height": null,
            "min_height": null,
            "padding": null,
            "grid_auto_rows": null,
            "grid_gap": null,
            "max_width": null,
            "order": null,
            "_view_module_version": "1.2.0",
            "grid_template_areas": null,
            "object_position": null,
            "object_fit": null,
            "grid_auto_columns": null,
            "margin": null,
            "display": null,
            "left": null
          }
        },
        "ada71df2379145abaae33fab387ab8cb": {
          "model_module": "@jupyter-widgets/controls",
          "model_name": "DescriptionStyleModel",
          "state": {
            "_view_name": "StyleView",
            "_model_name": "DescriptionStyleModel",
            "description_width": "",
            "_view_module": "@jupyter-widgets/base",
            "_model_module_version": "1.5.0",
            "_view_count": null,
            "_view_module_version": "1.2.0",
            "_model_module": "@jupyter-widgets/controls"
          }
        },
        "9b2443cd328a453fbe69b9897f5ce820": {
          "model_module": "@jupyter-widgets/base",
          "model_name": "LayoutModel",
          "state": {
            "_view_name": "LayoutView",
            "grid_template_rows": null,
            "right": null,
            "justify_content": null,
            "_view_module": "@jupyter-widgets/base",
            "overflow": null,
            "_model_module_version": "1.2.0",
            "_view_count": null,
            "flex_flow": null,
            "width": null,
            "min_width": null,
            "border": null,
            "align_items": null,
            "bottom": null,
            "_model_module": "@jupyter-widgets/base",
            "top": null,
            "grid_column": null,
            "overflow_y": null,
            "overflow_x": null,
            "grid_auto_flow": null,
            "grid_area": null,
            "grid_template_columns": null,
            "flex": null,
            "_model_name": "LayoutModel",
            "justify_items": null,
            "grid_row": null,
            "max_height": null,
            "align_content": null,
            "visibility": null,
            "align_self": null,
            "height": null,
            "min_height": null,
            "padding": null,
            "grid_auto_rows": null,
            "grid_gap": null,
            "max_width": null,
            "order": null,
            "_view_module_version": "1.2.0",
            "grid_template_areas": null,
            "object_position": null,
            "object_fit": null,
            "grid_auto_columns": null,
            "margin": null,
            "display": null,
            "left": null
          }
        },
        "48bf19f0d782444d955f9bed3bfef224": {
          "model_module": "@jupyter-widgets/controls",
          "model_name": "HBoxModel",
          "state": {
            "_view_name": "HBoxView",
            "_dom_classes": [],
            "_model_name": "HBoxModel",
            "_view_module": "@jupyter-widgets/controls",
            "_model_module_version": "1.5.0",
            "_view_count": null,
            "_view_module_version": "1.5.0",
            "box_style": "",
            "layout": "IPY_MODEL_463a0adb3804468f9a3703811d709d48",
            "_model_module": "@jupyter-widgets/controls",
            "children": [
              "IPY_MODEL_30c6491adca4461bbc8fb1c755b1fba6",
              "IPY_MODEL_3459e7f54c204a9f9242df1bb741d245"
            ]
          }
        },
        "463a0adb3804468f9a3703811d709d48": {
          "model_module": "@jupyter-widgets/base",
          "model_name": "LayoutModel",
          "state": {
            "_view_name": "LayoutView",
            "grid_template_rows": null,
            "right": null,
            "justify_content": null,
            "_view_module": "@jupyter-widgets/base",
            "overflow": null,
            "_model_module_version": "1.2.0",
            "_view_count": null,
            "flex_flow": null,
            "width": null,
            "min_width": null,
            "border": null,
            "align_items": null,
            "bottom": null,
            "_model_module": "@jupyter-widgets/base",
            "top": null,
            "grid_column": null,
            "overflow_y": null,
            "overflow_x": null,
            "grid_auto_flow": null,
            "grid_area": null,
            "grid_template_columns": null,
            "flex": null,
            "_model_name": "LayoutModel",
            "justify_items": null,
            "grid_row": null,
            "max_height": null,
            "align_content": null,
            "visibility": null,
            "align_self": null,
            "height": null,
            "min_height": null,
            "padding": null,
            "grid_auto_rows": null,
            "grid_gap": null,
            "max_width": null,
            "order": null,
            "_view_module_version": "1.2.0",
            "grid_template_areas": null,
            "object_position": null,
            "object_fit": null,
            "grid_auto_columns": null,
            "margin": null,
            "display": null,
            "left": null
          }
        },
        "30c6491adca4461bbc8fb1c755b1fba6": {
          "model_module": "@jupyter-widgets/controls",
          "model_name": "FloatProgressModel",
          "state": {
            "_view_name": "ProgressView",
            "style": "IPY_MODEL_f38a5a2495d045d3802d5b86389d5861",
            "_dom_classes": [],
            "description": "Downloading: 100%",
            "_model_name": "FloatProgressModel",
            "bar_style": "success",
            "max": 231508,
            "_view_module": "@jupyter-widgets/controls",
            "_model_module_version": "1.5.0",
            "value": 231508,
            "_view_count": null,
            "_view_module_version": "1.5.0",
            "orientation": "horizontal",
            "min": 0,
            "description_tooltip": null,
            "_model_module": "@jupyter-widgets/controls",
            "layout": "IPY_MODEL_0ba8f5bc00b446b5b0f1d0d0fca68689"
          }
        },
        "3459e7f54c204a9f9242df1bb741d245": {
          "model_module": "@jupyter-widgets/controls",
          "model_name": "HTMLModel",
          "state": {
            "_view_name": "HTMLView",
            "style": "IPY_MODEL_f17e552a0f894d2191866bb85dea4ec3",
            "_dom_classes": [],
            "description": "",
            "_model_name": "HTMLModel",
            "placeholder": "​",
            "_view_module": "@jupyter-widgets/controls",
            "_model_module_version": "1.5.0",
            "value": " 232k/232k [00:01&lt;00:00, 212kB/s]",
            "_view_count": null,
            "_view_module_version": "1.5.0",
            "description_tooltip": null,
            "_model_module": "@jupyter-widgets/controls",
            "layout": "IPY_MODEL_56c76e15273240ef92c3e40fe52aa59e"
          }
        },
        "f38a5a2495d045d3802d5b86389d5861": {
          "model_module": "@jupyter-widgets/controls",
          "model_name": "ProgressStyleModel",
          "state": {
            "_view_name": "StyleView",
            "_model_name": "ProgressStyleModel",
            "description_width": "initial",
            "_view_module": "@jupyter-widgets/base",
            "_model_module_version": "1.5.0",
            "_view_count": null,
            "_view_module_version": "1.2.0",
            "bar_color": null,
            "_model_module": "@jupyter-widgets/controls"
          }
        },
        "0ba8f5bc00b446b5b0f1d0d0fca68689": {
          "model_module": "@jupyter-widgets/base",
          "model_name": "LayoutModel",
          "state": {
            "_view_name": "LayoutView",
            "grid_template_rows": null,
            "right": null,
            "justify_content": null,
            "_view_module": "@jupyter-widgets/base",
            "overflow": null,
            "_model_module_version": "1.2.0",
            "_view_count": null,
            "flex_flow": null,
            "width": null,
            "min_width": null,
            "border": null,
            "align_items": null,
            "bottom": null,
            "_model_module": "@jupyter-widgets/base",
            "top": null,
            "grid_column": null,
            "overflow_y": null,
            "overflow_x": null,
            "grid_auto_flow": null,
            "grid_area": null,
            "grid_template_columns": null,
            "flex": null,
            "_model_name": "LayoutModel",
            "justify_items": null,
            "grid_row": null,
            "max_height": null,
            "align_content": null,
            "visibility": null,
            "align_self": null,
            "height": null,
            "min_height": null,
            "padding": null,
            "grid_auto_rows": null,
            "grid_gap": null,
            "max_width": null,
            "order": null,
            "_view_module_version": "1.2.0",
            "grid_template_areas": null,
            "object_position": null,
            "object_fit": null,
            "grid_auto_columns": null,
            "margin": null,
            "display": null,
            "left": null
          }
        },
        "f17e552a0f894d2191866bb85dea4ec3": {
          "model_module": "@jupyter-widgets/controls",
          "model_name": "DescriptionStyleModel",
          "state": {
            "_view_name": "StyleView",
            "_model_name": "DescriptionStyleModel",
            "description_width": "",
            "_view_module": "@jupyter-widgets/base",
            "_model_module_version": "1.5.0",
            "_view_count": null,
            "_view_module_version": "1.2.0",
            "_model_module": "@jupyter-widgets/controls"
          }
        },
        "56c76e15273240ef92c3e40fe52aa59e": {
          "model_module": "@jupyter-widgets/base",
          "model_name": "LayoutModel",
          "state": {
            "_view_name": "LayoutView",
            "grid_template_rows": null,
            "right": null,
            "justify_content": null,
            "_view_module": "@jupyter-widgets/base",
            "overflow": null,
            "_model_module_version": "1.2.0",
            "_view_count": null,
            "flex_flow": null,
            "width": null,
            "min_width": null,
            "border": null,
            "align_items": null,
            "bottom": null,
            "_model_module": "@jupyter-widgets/base",
            "top": null,
            "grid_column": null,
            "overflow_y": null,
            "overflow_x": null,
            "grid_auto_flow": null,
            "grid_area": null,
            "grid_template_columns": null,
            "flex": null,
            "_model_name": "LayoutModel",
            "justify_items": null,
            "grid_row": null,
            "max_height": null,
            "align_content": null,
            "visibility": null,
            "align_self": null,
            "height": null,
            "min_height": null,
            "padding": null,
            "grid_auto_rows": null,
            "grid_gap": null,
            "max_width": null,
            "order": null,
            "_view_module_version": "1.2.0",
            "grid_template_areas": null,
            "object_position": null,
            "object_fit": null,
            "grid_auto_columns": null,
            "margin": null,
            "display": null,
            "left": null
          }
        },
        "9564caeb02de4fdb93b8b1f28c7f50a7": {
          "model_module": "@jupyter-widgets/controls",
          "model_name": "HBoxModel",
          "state": {
            "_view_name": "HBoxView",
            "_dom_classes": [],
            "_model_name": "HBoxModel",
            "_view_module": "@jupyter-widgets/controls",
            "_model_module_version": "1.5.0",
            "_view_count": null,
            "_view_module_version": "1.5.0",
            "box_style": "",
            "layout": "IPY_MODEL_157811b04c9b485eb6bc151e9ed085d5",
            "_model_module": "@jupyter-widgets/controls",
            "children": [
              "IPY_MODEL_0327f113c1c54559bf2e73c65008dbde",
              "IPY_MODEL_5bc62edc6a064e178bb9c164559c1e97"
            ]
          }
        },
        "157811b04c9b485eb6bc151e9ed085d5": {
          "model_module": "@jupyter-widgets/base",
          "model_name": "LayoutModel",
          "state": {
            "_view_name": "LayoutView",
            "grid_template_rows": null,
            "right": null,
            "justify_content": null,
            "_view_module": "@jupyter-widgets/base",
            "overflow": null,
            "_model_module_version": "1.2.0",
            "_view_count": null,
            "flex_flow": null,
            "width": null,
            "min_width": null,
            "border": null,
            "align_items": null,
            "bottom": null,
            "_model_module": "@jupyter-widgets/base",
            "top": null,
            "grid_column": null,
            "overflow_y": null,
            "overflow_x": null,
            "grid_auto_flow": null,
            "grid_area": null,
            "grid_template_columns": null,
            "flex": null,
            "_model_name": "LayoutModel",
            "justify_items": null,
            "grid_row": null,
            "max_height": null,
            "align_content": null,
            "visibility": null,
            "align_self": null,
            "height": null,
            "min_height": null,
            "padding": null,
            "grid_auto_rows": null,
            "grid_gap": null,
            "max_width": null,
            "order": null,
            "_view_module_version": "1.2.0",
            "grid_template_areas": null,
            "object_position": null,
            "object_fit": null,
            "grid_auto_columns": null,
            "margin": null,
            "display": null,
            "left": null
          }
        },
        "0327f113c1c54559bf2e73c65008dbde": {
          "model_module": "@jupyter-widgets/controls",
          "model_name": "FloatProgressModel",
          "state": {
            "_view_name": "ProgressView",
            "style": "IPY_MODEL_faf84290ecfd4e18985918631e89cb92",
            "_dom_classes": [],
            "description": "Downloading: 100%",
            "_model_name": "FloatProgressModel",
            "bar_style": "success",
            "max": 28,
            "_view_module": "@jupyter-widgets/controls",
            "_model_module_version": "1.5.0",
            "value": 28,
            "_view_count": null,
            "_view_module_version": "1.5.0",
            "orientation": "horizontal",
            "min": 0,
            "description_tooltip": null,
            "_model_module": "@jupyter-widgets/controls",
            "layout": "IPY_MODEL_2decc29e970b4e528a5142f812367153"
          }
        },
        "5bc62edc6a064e178bb9c164559c1e97": {
          "model_module": "@jupyter-widgets/controls",
          "model_name": "HTMLModel",
          "state": {
            "_view_name": "HTMLView",
            "style": "IPY_MODEL_0a9b37786489475ba0bcee7bc3a62ce2",
            "_dom_classes": [],
            "description": "",
            "_model_name": "HTMLModel",
            "placeholder": "​",
            "_view_module": "@jupyter-widgets/controls",
            "_model_module_version": "1.5.0",
            "value": " 28.0/28.0 [00:00&lt;00:00, 34.7B/s]",
            "_view_count": null,
            "_view_module_version": "1.5.0",
            "description_tooltip": null,
            "_model_module": "@jupyter-widgets/controls",
            "layout": "IPY_MODEL_bfad97dda7de44eba50c02ec12f7d2bc"
          }
        },
        "faf84290ecfd4e18985918631e89cb92": {
          "model_module": "@jupyter-widgets/controls",
          "model_name": "ProgressStyleModel",
          "state": {
            "_view_name": "StyleView",
            "_model_name": "ProgressStyleModel",
            "description_width": "initial",
            "_view_module": "@jupyter-widgets/base",
            "_model_module_version": "1.5.0",
            "_view_count": null,
            "_view_module_version": "1.2.0",
            "bar_color": null,
            "_model_module": "@jupyter-widgets/controls"
          }
        },
        "2decc29e970b4e528a5142f812367153": {
          "model_module": "@jupyter-widgets/base",
          "model_name": "LayoutModel",
          "state": {
            "_view_name": "LayoutView",
            "grid_template_rows": null,
            "right": null,
            "justify_content": null,
            "_view_module": "@jupyter-widgets/base",
            "overflow": null,
            "_model_module_version": "1.2.0",
            "_view_count": null,
            "flex_flow": null,
            "width": null,
            "min_width": null,
            "border": null,
            "align_items": null,
            "bottom": null,
            "_model_module": "@jupyter-widgets/base",
            "top": null,
            "grid_column": null,
            "overflow_y": null,
            "overflow_x": null,
            "grid_auto_flow": null,
            "grid_area": null,
            "grid_template_columns": null,
            "flex": null,
            "_model_name": "LayoutModel",
            "justify_items": null,
            "grid_row": null,
            "max_height": null,
            "align_content": null,
            "visibility": null,
            "align_self": null,
            "height": null,
            "min_height": null,
            "padding": null,
            "grid_auto_rows": null,
            "grid_gap": null,
            "max_width": null,
            "order": null,
            "_view_module_version": "1.2.0",
            "grid_template_areas": null,
            "object_position": null,
            "object_fit": null,
            "grid_auto_columns": null,
            "margin": null,
            "display": null,
            "left": null
          }
        },
        "0a9b37786489475ba0bcee7bc3a62ce2": {
          "model_module": "@jupyter-widgets/controls",
          "model_name": "DescriptionStyleModel",
          "state": {
            "_view_name": "StyleView",
            "_model_name": "DescriptionStyleModel",
            "description_width": "",
            "_view_module": "@jupyter-widgets/base",
            "_model_module_version": "1.5.0",
            "_view_count": null,
            "_view_module_version": "1.2.0",
            "_model_module": "@jupyter-widgets/controls"
          }
        },
        "bfad97dda7de44eba50c02ec12f7d2bc": {
          "model_module": "@jupyter-widgets/base",
          "model_name": "LayoutModel",
          "state": {
            "_view_name": "LayoutView",
            "grid_template_rows": null,
            "right": null,
            "justify_content": null,
            "_view_module": "@jupyter-widgets/base",
            "overflow": null,
            "_model_module_version": "1.2.0",
            "_view_count": null,
            "flex_flow": null,
            "width": null,
            "min_width": null,
            "border": null,
            "align_items": null,
            "bottom": null,
            "_model_module": "@jupyter-widgets/base",
            "top": null,
            "grid_column": null,
            "overflow_y": null,
            "overflow_x": null,
            "grid_auto_flow": null,
            "grid_area": null,
            "grid_template_columns": null,
            "flex": null,
            "_model_name": "LayoutModel",
            "justify_items": null,
            "grid_row": null,
            "max_height": null,
            "align_content": null,
            "visibility": null,
            "align_self": null,
            "height": null,
            "min_height": null,
            "padding": null,
            "grid_auto_rows": null,
            "grid_gap": null,
            "max_width": null,
            "order": null,
            "_view_module_version": "1.2.0",
            "grid_template_areas": null,
            "object_position": null,
            "object_fit": null,
            "grid_auto_columns": null,
            "margin": null,
            "display": null,
            "left": null
          }
        },
        "b82a9deb9d864ea79e476f487c6534c5": {
          "model_module": "@jupyter-widgets/controls",
          "model_name": "HBoxModel",
          "state": {
            "_view_name": "HBoxView",
            "_dom_classes": [],
            "_model_name": "HBoxModel",
            "_view_module": "@jupyter-widgets/controls",
            "_model_module_version": "1.5.0",
            "_view_count": null,
            "_view_module_version": "1.5.0",
            "box_style": "",
            "layout": "IPY_MODEL_26f5057b2ece435f99a2db607bece2a6",
            "_model_module": "@jupyter-widgets/controls",
            "children": [
              "IPY_MODEL_c2f71da17eb748188c028e22cb96f652",
              "IPY_MODEL_bb32b6baed904ecbb82ced9d06cf39fa"
            ]
          }
        },
        "26f5057b2ece435f99a2db607bece2a6": {
          "model_module": "@jupyter-widgets/base",
          "model_name": "LayoutModel",
          "state": {
            "_view_name": "LayoutView",
            "grid_template_rows": null,
            "right": null,
            "justify_content": null,
            "_view_module": "@jupyter-widgets/base",
            "overflow": null,
            "_model_module_version": "1.2.0",
            "_view_count": null,
            "flex_flow": null,
            "width": null,
            "min_width": null,
            "border": null,
            "align_items": null,
            "bottom": null,
            "_model_module": "@jupyter-widgets/base",
            "top": null,
            "grid_column": null,
            "overflow_y": null,
            "overflow_x": null,
            "grid_auto_flow": null,
            "grid_area": null,
            "grid_template_columns": null,
            "flex": null,
            "_model_name": "LayoutModel",
            "justify_items": null,
            "grid_row": null,
            "max_height": null,
            "align_content": null,
            "visibility": null,
            "align_self": null,
            "height": null,
            "min_height": null,
            "padding": null,
            "grid_auto_rows": null,
            "grid_gap": null,
            "max_width": null,
            "order": null,
            "_view_module_version": "1.2.0",
            "grid_template_areas": null,
            "object_position": null,
            "object_fit": null,
            "grid_auto_columns": null,
            "margin": null,
            "display": null,
            "left": null
          }
        },
        "c2f71da17eb748188c028e22cb96f652": {
          "model_module": "@jupyter-widgets/controls",
          "model_name": "FloatProgressModel",
          "state": {
            "_view_name": "ProgressView",
            "style": "IPY_MODEL_a487ff6a4a2b4b43a2e2b703108e517b",
            "_dom_classes": [],
            "description": "Downloading: 100%",
            "_model_name": "FloatProgressModel",
            "bar_style": "success",
            "max": 466062,
            "_view_module": "@jupyter-widgets/controls",
            "_model_module_version": "1.5.0",
            "value": 466062,
            "_view_count": null,
            "_view_module_version": "1.5.0",
            "orientation": "horizontal",
            "min": 0,
            "description_tooltip": null,
            "_model_module": "@jupyter-widgets/controls",
            "layout": "IPY_MODEL_4689a716f84745ee90d4f2f2bfbc7c0d"
          }
        },
        "bb32b6baed904ecbb82ced9d06cf39fa": {
          "model_module": "@jupyter-widgets/controls",
          "model_name": "HTMLModel",
          "state": {
            "_view_name": "HTMLView",
            "style": "IPY_MODEL_e790cb29a20e4b9c967c0041ed319052",
            "_dom_classes": [],
            "description": "",
            "_model_name": "HTMLModel",
            "placeholder": "​",
            "_view_module": "@jupyter-widgets/controls",
            "_model_module_version": "1.5.0",
            "value": " 466k/466k [00:00&lt;00:00, 1.36MB/s]",
            "_view_count": null,
            "_view_module_version": "1.5.0",
            "description_tooltip": null,
            "_model_module": "@jupyter-widgets/controls",
            "layout": "IPY_MODEL_e04193c4a0084a75b86372c3d9baead6"
          }
        },
        "a487ff6a4a2b4b43a2e2b703108e517b": {
          "model_module": "@jupyter-widgets/controls",
          "model_name": "ProgressStyleModel",
          "state": {
            "_view_name": "StyleView",
            "_model_name": "ProgressStyleModel",
            "description_width": "initial",
            "_view_module": "@jupyter-widgets/base",
            "_model_module_version": "1.5.0",
            "_view_count": null,
            "_view_module_version": "1.2.0",
            "bar_color": null,
            "_model_module": "@jupyter-widgets/controls"
          }
        },
        "4689a716f84745ee90d4f2f2bfbc7c0d": {
          "model_module": "@jupyter-widgets/base",
          "model_name": "LayoutModel",
          "state": {
            "_view_name": "LayoutView",
            "grid_template_rows": null,
            "right": null,
            "justify_content": null,
            "_view_module": "@jupyter-widgets/base",
            "overflow": null,
            "_model_module_version": "1.2.0",
            "_view_count": null,
            "flex_flow": null,
            "width": null,
            "min_width": null,
            "border": null,
            "align_items": null,
            "bottom": null,
            "_model_module": "@jupyter-widgets/base",
            "top": null,
            "grid_column": null,
            "overflow_y": null,
            "overflow_x": null,
            "grid_auto_flow": null,
            "grid_area": null,
            "grid_template_columns": null,
            "flex": null,
            "_model_name": "LayoutModel",
            "justify_items": null,
            "grid_row": null,
            "max_height": null,
            "align_content": null,
            "visibility": null,
            "align_self": null,
            "height": null,
            "min_height": null,
            "padding": null,
            "grid_auto_rows": null,
            "grid_gap": null,
            "max_width": null,
            "order": null,
            "_view_module_version": "1.2.0",
            "grid_template_areas": null,
            "object_position": null,
            "object_fit": null,
            "grid_auto_columns": null,
            "margin": null,
            "display": null,
            "left": null
          }
        },
        "e790cb29a20e4b9c967c0041ed319052": {
          "model_module": "@jupyter-widgets/controls",
          "model_name": "DescriptionStyleModel",
          "state": {
            "_view_name": "StyleView",
            "_model_name": "DescriptionStyleModel",
            "description_width": "",
            "_view_module": "@jupyter-widgets/base",
            "_model_module_version": "1.5.0",
            "_view_count": null,
            "_view_module_version": "1.2.0",
            "_model_module": "@jupyter-widgets/controls"
          }
        },
        "e04193c4a0084a75b86372c3d9baead6": {
          "model_module": "@jupyter-widgets/base",
          "model_name": "LayoutModel",
          "state": {
            "_view_name": "LayoutView",
            "grid_template_rows": null,
            "right": null,
            "justify_content": null,
            "_view_module": "@jupyter-widgets/base",
            "overflow": null,
            "_model_module_version": "1.2.0",
            "_view_count": null,
            "flex_flow": null,
            "width": null,
            "min_width": null,
            "border": null,
            "align_items": null,
            "bottom": null,
            "_model_module": "@jupyter-widgets/base",
            "top": null,
            "grid_column": null,
            "overflow_y": null,
            "overflow_x": null,
            "grid_auto_flow": null,
            "grid_area": null,
            "grid_template_columns": null,
            "flex": null,
            "_model_name": "LayoutModel",
            "justify_items": null,
            "grid_row": null,
            "max_height": null,
            "align_content": null,
            "visibility": null,
            "align_self": null,
            "height": null,
            "min_height": null,
            "padding": null,
            "grid_auto_rows": null,
            "grid_gap": null,
            "max_width": null,
            "order": null,
            "_view_module_version": "1.2.0",
            "grid_template_areas": null,
            "object_position": null,
            "object_fit": null,
            "grid_auto_columns": null,
            "margin": null,
            "display": null,
            "left": null
          }
        }
      }
    }
  },
  "cells": [
    {
      "cell_type": "markdown",
      "metadata": {
        "id": "pH_RJoR7Pf6d"
      },
      "source": [
        "# Extract Posting Description Embeddings using BERT (without Fine-Tuning BERT)"
      ]
    },
    {
      "cell_type": "markdown",
      "metadata": {
        "id": "cnQKtO9dgB5B"
      },
      "source": [
        "Inspiration: [here](https://github.com/jalammar/jalammar.github.io/blob/master/notebooks/bert/A_Visual_Notebook_to_Using_BERT_for_the_First_Time.ipynb)"
      ]
    },
    {
      "cell_type": "markdown",
      "metadata": {
        "id": "kORQ4JHtPuNH"
      },
      "source": [
        "# 0. Setup"
      ]
    },
    {
      "cell_type": "markdown",
      "metadata": {
        "id": "FYSxXV_fPyo9"
      },
      "source": [
        "### Installs"
      ]
    },
    {
      "cell_type": "code",
      "metadata": {
        "colab": {
          "base_uri": "https://localhost:8080/"
        },
        "id": "13f2cn4jPnBH",
        "outputId": "f6d9a3d1-ab3e-4b41-daed-6ea3fbe5bfb7"
      },
      "source": [
        "# install huggingface\n",
        "!pip install transformers"
      ],
      "execution_count": 1,
      "outputs": [
        {
          "output_type": "stream",
          "text": [
            "Collecting transformers\n",
            "\u001b[?25l  Downloading https://files.pythonhosted.org/packages/d8/b2/57495b5309f09fa501866e225c84532d1fd89536ea62406b2181933fb418/transformers-4.5.1-py3-none-any.whl (2.1MB)\n",
            "\u001b[K     |████████████████████████████████| 2.1MB 8.4MB/s \n",
            "\u001b[?25hRequirement already satisfied: packaging in /usr/local/lib/python3.7/dist-packages (from transformers) (20.9)\n",
            "Requirement already satisfied: tqdm>=4.27 in /usr/local/lib/python3.7/dist-packages (from transformers) (4.41.1)\n",
            "Collecting sacremoses\n",
            "\u001b[?25l  Downloading https://files.pythonhosted.org/packages/75/ee/67241dc87f266093c533a2d4d3d69438e57d7a90abb216fa076e7d475d4a/sacremoses-0.0.45-py3-none-any.whl (895kB)\n",
            "\u001b[K     |████████████████████████████████| 901kB 50.8MB/s \n",
            "\u001b[?25hRequirement already satisfied: regex!=2019.12.17 in /usr/local/lib/python3.7/dist-packages (from transformers) (2019.12.20)\n",
            "Requirement already satisfied: requests in /usr/local/lib/python3.7/dist-packages (from transformers) (2.23.0)\n",
            "Requirement already satisfied: numpy>=1.17 in /usr/local/lib/python3.7/dist-packages (from transformers) (1.19.5)\n",
            "Requirement already satisfied: filelock in /usr/local/lib/python3.7/dist-packages (from transformers) (3.0.12)\n",
            "Collecting tokenizers<0.11,>=0.10.1\n",
            "\u001b[?25l  Downloading https://files.pythonhosted.org/packages/ae/04/5b870f26a858552025a62f1649c20d29d2672c02ff3c3fb4c688ca46467a/tokenizers-0.10.2-cp37-cp37m-manylinux2010_x86_64.whl (3.3MB)\n",
            "\u001b[K     |████████████████████████████████| 3.3MB 48.1MB/s \n",
            "\u001b[?25hRequirement already satisfied: importlib-metadata; python_version < \"3.8\" in /usr/local/lib/python3.7/dist-packages (from transformers) (3.10.1)\n",
            "Requirement already satisfied: pyparsing>=2.0.2 in /usr/local/lib/python3.7/dist-packages (from packaging->transformers) (2.4.7)\n",
            "Requirement already satisfied: six in /usr/local/lib/python3.7/dist-packages (from sacremoses->transformers) (1.15.0)\n",
            "Requirement already satisfied: click in /usr/local/lib/python3.7/dist-packages (from sacremoses->transformers) (7.1.2)\n",
            "Requirement already satisfied: joblib in /usr/local/lib/python3.7/dist-packages (from sacremoses->transformers) (1.0.1)\n",
            "Requirement already satisfied: idna<3,>=2.5 in /usr/local/lib/python3.7/dist-packages (from requests->transformers) (2.10)\n",
            "Requirement already satisfied: certifi>=2017.4.17 in /usr/local/lib/python3.7/dist-packages (from requests->transformers) (2020.12.5)\n",
            "Requirement already satisfied: chardet<4,>=3.0.2 in /usr/local/lib/python3.7/dist-packages (from requests->transformers) (3.0.4)\n",
            "Requirement already satisfied: urllib3!=1.25.0,!=1.25.1,<1.26,>=1.21.1 in /usr/local/lib/python3.7/dist-packages (from requests->transformers) (1.24.3)\n",
            "Requirement already satisfied: zipp>=0.5 in /usr/local/lib/python3.7/dist-packages (from importlib-metadata; python_version < \"3.8\"->transformers) (3.4.1)\n",
            "Requirement already satisfied: typing-extensions>=3.6.4; python_version < \"3.8\" in /usr/local/lib/python3.7/dist-packages (from importlib-metadata; python_version < \"3.8\"->transformers) (3.7.4.3)\n",
            "Installing collected packages: sacremoses, tokenizers, transformers\n",
            "Successfully installed sacremoses-0.0.45 tokenizers-0.10.2 transformers-4.5.1\n"
          ],
          "name": "stdout"
        }
      ]
    },
    {
      "cell_type": "markdown",
      "metadata": {
        "id": "Vdk_S94_QRXv"
      },
      "source": [
        "### Imports"
      ]
    },
    {
      "cell_type": "code",
      "metadata": {
        "id": "0rLVT2OuQSNt"
      },
      "source": [
        "# import HuggingFace models\n",
        "# DistilBert is a smaller model so we can run and train faster\n",
        "from transformers import DistilBertModel, DistilBertTokenizer\n",
        "\n",
        "# just for visualize data files\n",
        "import pandas as pd \n",
        "\n",
        "# necessary :(\n",
        "import torch\n",
        "\n",
        "# classic shit\n",
        "import numpy as np"
      ],
      "execution_count": 2,
      "outputs": []
    },
    {
      "cell_type": "markdown",
      "metadata": {
        "id": "cZBQqW2nQiYS"
      },
      "source": [
        "### Model and Tokenizer setup"
      ]
    },
    {
      "cell_type": "code",
      "metadata": {
        "colab": {
          "base_uri": "https://localhost:8080/",
          "height": 264,
          "referenced_widgets": [
            "5b3ba0c18d4b46bfad00e832257bf716",
            "fb0b3cb8106e4f39a97c63999546bd02",
            "a8218b6b77854afead89f2752f2b13ef",
            "502e7a8c31c846b9a1b9eeddc78fda43",
            "1392aa4aedf743d6ba6e4c6994d29ab2",
            "e9bc7a623f804e13a4eb75c9aeaa2a20",
            "91d75f1e75554bf482e6fdbed70215aa",
            "41c0c6ed6390410aab8313b9093cfd99",
            "6d327150d77c4c6da4bea7ecfc616dac",
            "e179e76d082b46429778ef324cf9b3c0",
            "e73048c4d810449e9e7b77e04be71d4d",
            "c9488f36be944897b381c228e4f4dc0c",
            "a607f2383b70407e97967a3c35ec9ad8",
            "431cb80a697f48acbea5418f6137b77f",
            "ada71df2379145abaae33fab387ab8cb",
            "9b2443cd328a453fbe69b9897f5ce820",
            "48bf19f0d782444d955f9bed3bfef224",
            "463a0adb3804468f9a3703811d709d48",
            "30c6491adca4461bbc8fb1c755b1fba6",
            "3459e7f54c204a9f9242df1bb741d245",
            "f38a5a2495d045d3802d5b86389d5861",
            "0ba8f5bc00b446b5b0f1d0d0fca68689",
            "f17e552a0f894d2191866bb85dea4ec3",
            "56c76e15273240ef92c3e40fe52aa59e",
            "9564caeb02de4fdb93b8b1f28c7f50a7",
            "157811b04c9b485eb6bc151e9ed085d5",
            "0327f113c1c54559bf2e73c65008dbde",
            "5bc62edc6a064e178bb9c164559c1e97",
            "faf84290ecfd4e18985918631e89cb92",
            "2decc29e970b4e528a5142f812367153",
            "0a9b37786489475ba0bcee7bc3a62ce2",
            "bfad97dda7de44eba50c02ec12f7d2bc",
            "b82a9deb9d864ea79e476f487c6534c5",
            "26f5057b2ece435f99a2db607bece2a6",
            "c2f71da17eb748188c028e22cb96f652",
            "bb32b6baed904ecbb82ced9d06cf39fa",
            "a487ff6a4a2b4b43a2e2b703108e517b",
            "4689a716f84745ee90d4f2f2bfbc7c0d",
            "e790cb29a20e4b9c967c0041ed319052",
            "e04193c4a0084a75b86372c3d9baead6"
          ]
        },
        "id": "tbxnv_JDQkpU",
        "outputId": "747ed2b8-c4b1-4b78-bd7b-5ae845502e53"
      },
      "source": [
        "MODEL_NAME = \"distilbert-base-uncased\"\n",
        "\n",
        "# define model and tokenizer\n",
        "model = DistilBertModel.from_pretrained(MODEL_NAME)\n",
        "tokenizer = DistilBertTokenizer.from_pretrained(MODEL_NAME, padding_side = \"right\")"
      ],
      "execution_count": 3,
      "outputs": [
        {
          "output_type": "display_data",
          "data": {
            "application/vnd.jupyter.widget-view+json": {
              "model_id": "5b3ba0c18d4b46bfad00e832257bf716",
              "version_minor": 0,
              "version_major": 2
            },
            "text/plain": [
              "HBox(children=(FloatProgress(value=0.0, description='Downloading', max=442.0, style=ProgressStyle(description_…"
            ]
          },
          "metadata": {
            "tags": []
          }
        },
        {
          "output_type": "stream",
          "text": [
            "\n"
          ],
          "name": "stdout"
        },
        {
          "output_type": "display_data",
          "data": {
            "application/vnd.jupyter.widget-view+json": {
              "model_id": "6d327150d77c4c6da4bea7ecfc616dac",
              "version_minor": 0,
              "version_major": 2
            },
            "text/plain": [
              "HBox(children=(FloatProgress(value=0.0, description='Downloading', max=267967963.0, style=ProgressStyle(descri…"
            ]
          },
          "metadata": {
            "tags": []
          }
        },
        {
          "output_type": "stream",
          "text": [
            "\n"
          ],
          "name": "stdout"
        },
        {
          "output_type": "display_data",
          "data": {
            "application/vnd.jupyter.widget-view+json": {
              "model_id": "48bf19f0d782444d955f9bed3bfef224",
              "version_minor": 0,
              "version_major": 2
            },
            "text/plain": [
              "HBox(children=(FloatProgress(value=0.0, description='Downloading', max=231508.0, style=ProgressStyle(descripti…"
            ]
          },
          "metadata": {
            "tags": []
          }
        },
        {
          "output_type": "stream",
          "text": [
            "\n"
          ],
          "name": "stdout"
        },
        {
          "output_type": "display_data",
          "data": {
            "application/vnd.jupyter.widget-view+json": {
              "model_id": "9564caeb02de4fdb93b8b1f28c7f50a7",
              "version_minor": 0,
              "version_major": 2
            },
            "text/plain": [
              "HBox(children=(FloatProgress(value=0.0, description='Downloading', max=28.0, style=ProgressStyle(description_w…"
            ]
          },
          "metadata": {
            "tags": []
          }
        },
        {
          "output_type": "stream",
          "text": [
            "\n"
          ],
          "name": "stdout"
        },
        {
          "output_type": "display_data",
          "data": {
            "application/vnd.jupyter.widget-view+json": {
              "model_id": "b82a9deb9d864ea79e476f487c6534c5",
              "version_minor": 0,
              "version_major": 2
            },
            "text/plain": [
              "HBox(children=(FloatProgress(value=0.0, description='Downloading', max=466062.0, style=ProgressStyle(descripti…"
            ]
          },
          "metadata": {
            "tags": []
          }
        },
        {
          "output_type": "stream",
          "text": [
            "\n"
          ],
          "name": "stdout"
        }
      ]
    },
    {
      "cell_type": "markdown",
      "metadata": {
        "id": "GxhtYg4ZR6On"
      },
      "source": [
        "# 1. Data"
      ]
    },
    {
      "cell_type": "markdown",
      "metadata": {
        "id": "yrz5bLTSR8Pp"
      },
      "source": [
        "### Preprocess data"
      ]
    },
    {
      "cell_type": "code",
      "metadata": {
        "colab": {
          "base_uri": "https://localhost:8080/"
        },
        "id": "-yKjqJL2TXA0",
        "outputId": "da69e843-16aa-4896-9561-1ed9baea9015"
      },
      "source": [
        "# mount to drive (that's where the data is)\n",
        "from google.colab import drive\n",
        "drive.mount(\"/content/drive\")"
      ],
      "execution_count": 4,
      "outputs": [
        {
          "output_type": "stream",
          "text": [
            "Mounted at /content/drive\n"
          ],
          "name": "stdout"
        }
      ]
    },
    {
      "cell_type": "markdown",
      "metadata": {
        "id": "gAyMI_Gccfq7"
      },
      "source": [
        "Get metadata"
      ]
    },
    {
      "cell_type": "code",
      "metadata": {
        "id": "ACyKIMd8Xq7O"
      },
      "source": [
        "import csv\n",
        "with open(\"/content/drive/My Drive/UT/NN/project/data/train.csv\", \"r\", encoding=\"utf8\") as f:\n",
        "    metadata = [{k: v for k, v in row.items()} for row in csv.DictReader(f, skipinitialspace=True)]"
      ],
      "execution_count": 5,
      "outputs": []
    },
    {
      "cell_type": "code",
      "metadata": {
        "colab": {
          "base_uri": "https://localhost:8080/"
        },
        "id": "poHMoYdYYbwv",
        "outputId": "24563fbb-c2ba-4cb0-a745-78d926c95a27"
      },
      "source": [
        "len(metadata)"
      ],
      "execution_count": 6,
      "outputs": [
        {
          "output_type": "execute_result",
          "data": {
            "text/plain": [
              "34250"
            ]
          },
          "metadata": {
            "tags": []
          },
          "execution_count": 6
        }
      ]
    },
    {
      "cell_type": "code",
      "metadata": {
        "colab": {
          "base_uri": "https://localhost:8080/"
        },
        "id": "FP737b4TYDTT",
        "outputId": "3460e4f7-e315-494a-d735-46ef9c305c28"
      },
      "source": [
        "metadata[0]"
      ],
      "execution_count": 7,
      "outputs": [
        {
          "output_type": "execute_result",
          "data": {
            "text/plain": [
              "{'image': '0000a68812bc7e98c42888dfb1c07da0.jpg',\n",
              " 'image_phash': '94974f937d4c2433',\n",
              " 'label_group': '249114794',\n",
              " 'posting_id': 'train_129225211',\n",
              " 'title': 'Paper Bag Victoria Secret'}"
            ]
          },
          "metadata": {
            "tags": []
          },
          "execution_count": 7
        }
      ]
    },
    {
      "cell_type": "markdown",
      "metadata": {
        "id": "3iAUmZ9yckUE"
      },
      "source": [
        "For now only get the titles (product description). We only take 1000 because we're just testing BERT out."
      ]
    },
    {
      "cell_type": "code",
      "metadata": {
        "id": "hDCUd84kYUFC"
      },
      "source": [
        "data = []\n",
        "for row in metadata[:1000]:\n",
        "  data.append(row[\"title\"])"
      ],
      "execution_count": 8,
      "outputs": []
    },
    {
      "cell_type": "code",
      "metadata": {
        "colab": {
          "base_uri": "https://localhost:8080/"
        },
        "id": "NZt0PhaIY4lC",
        "outputId": "48790573-5635-4ace-91a8-2eeabb76b751"
      },
      "source": [
        "data[:3]"
      ],
      "execution_count": 9,
      "outputs": [
        {
          "output_type": "execute_result",
          "data": {
            "text/plain": [
              "['Paper Bag Victoria Secret',\n",
              " 'Double Tape 3M VHB 12 mm x 4,5 m ORIGINAL / DOUBLE FOAM TAPE',\n",
              " 'Maling TTS Canned Pork Luncheon Meat 397 gr']"
            ]
          },
          "metadata": {
            "tags": []
          },
          "execution_count": 9
        }
      ]
    },
    {
      "cell_type": "markdown",
      "metadata": {
        "id": "87NSMQ82cwfn"
      },
      "source": [
        "Tokenize and encode our descriptions. "
      ]
    },
    {
      "cell_type": "code",
      "metadata": {
        "colab": {
          "base_uri": "https://localhost:8080/"
        },
        "id": "lI1LRcTBZQUx",
        "outputId": "a9f95da8-7afb-460e-9c12-d3c3b470e354"
      },
      "source": [
        "encodings = tokenizer(data, truncation=True, padding=True)\n",
        "print(encodings.keys())\n",
        "print(encodings[\"input_ids\"][0])\n",
        "print(encodings[\"attention_mask\"][0])\n",
        "# Note that 101 = [CLS] and 102 = [SEP]"
      ],
      "execution_count": 10,
      "outputs": [
        {
          "output_type": "stream",
          "text": [
            "dict_keys(['input_ids', 'attention_mask'])\n",
            "[101, 3259, 4524, 3848, 3595, 102, 0, 0, 0, 0, 0, 0, 0, 0, 0, 0, 0, 0, 0, 0, 0, 0, 0, 0, 0, 0, 0, 0, 0, 0, 0, 0, 0, 0, 0, 0, 0, 0, 0, 0, 0, 0, 0, 0, 0, 0, 0, 0, 0, 0, 0, 0, 0, 0, 0, 0, 0, 0, 0, 0, 0, 0, 0, 0, 0, 0, 0, 0, 0, 0, 0, 0, 0, 0, 0, 0, 0, 0, 0, 0, 0, 0, 0, 0, 0, 0]\n",
            "[1, 1, 1, 1, 1, 1, 0, 0, 0, 0, 0, 0, 0, 0, 0, 0, 0, 0, 0, 0, 0, 0, 0, 0, 0, 0, 0, 0, 0, 0, 0, 0, 0, 0, 0, 0, 0, 0, 0, 0, 0, 0, 0, 0, 0, 0, 0, 0, 0, 0, 0, 0, 0, 0, 0, 0, 0, 0, 0, 0, 0, 0, 0, 0, 0, 0, 0, 0, 0, 0, 0, 0, 0, 0, 0, 0, 0, 0, 0, 0, 0, 0, 0, 0, 0, 0]\n"
          ],
          "name": "stdout"
        }
      ]
    },
    {
      "cell_type": "markdown",
      "metadata": {
        "id": "IAFrur0wdhqW"
      },
      "source": [
        "# 2. Extract Embeddings / Features"
      ]
    },
    {
      "cell_type": "markdown",
      "metadata": {
        "id": "dZcqQvbRdzsI"
      },
      "source": [
        "### Pass inputs through model"
      ]
    },
    {
      "cell_type": "code",
      "metadata": {
        "id": "cyCz71PWZfjr"
      },
      "source": [
        "inputs = torch.tensor(encodings[\"input_ids\"])\n",
        "masks = torch.tensor(encodings[\"attention_mask\"])\n",
        "\n",
        "# Turn off the gradient (we only want to do the forward pass)\n",
        "with torch.no_grad():\n",
        "    last_hidden_states = model(inputs, attention_mask = masks)"
      ],
      "execution_count": 11,
      "outputs": []
    },
    {
      "cell_type": "markdown",
      "metadata": {
        "id": "lyfhdw-ZeFbt"
      },
      "source": [
        "### Get Features / Embeddings"
      ]
    },
    {
      "cell_type": "code",
      "metadata": {
        "id": "7rtxbgBTboyB"
      },
      "source": [
        "features = last_hidden_states[0][:,0,:].numpy()\n",
        "# [:,0,:] means [all descriptions, [CLS] token, all hidden unit outputs]"
      ],
      "execution_count": 12,
      "outputs": []
    },
    {
      "cell_type": "markdown",
      "metadata": {
        "id": "elrWxObhekpZ"
      },
      "source": [
        "Embedding for first description:"
      ]
    },
    {
      "cell_type": "code",
      "metadata": {
        "colab": {
          "base_uri": "https://localhost:8080/"
        },
        "id": "NTUNQ8Llbs7r",
        "outputId": "05bdec84-7f94-4f1a-c5d6-7cb098134e00"
      },
      "source": [
        "features[0]"
      ],
      "execution_count": 13,
      "outputs": [
        {
          "output_type": "execute_result",
          "data": {
            "text/plain": [
              "array([-1.73107952e-01, -6.27488866e-02, -4.82059643e-02, -1.72041208e-02,\n",
              "       -6.08978607e-02, -6.15112074e-02,  2.01431543e-01,  2.76894182e-01,\n",
              "       -2.46687844e-01,  6.47843000e-04,  9.25970152e-02, -1.14208281e-01,\n",
              "       -5.75973801e-02,  2.51374096e-01,  5.01818135e-02,  3.23558524e-02,\n",
              "       -1.74137130e-01,  2.33021215e-01,  3.65431726e-01, -1.32005453e-01,\n",
              "        9.27552432e-02, -2.13548467e-01, -1.54527038e-01, -1.39038295e-01,\n",
              "       -1.24754876e-01, -2.95492988e-02, -1.09178111e-01,  2.82701831e-02,\n",
              "        1.98081866e-01,  1.15455814e-01,  8.01238865e-02, -6.57693222e-02,\n",
              "        5.78293726e-02, -6.91585690e-02,  1.52884051e-01, -6.65585250e-02,\n",
              "        1.09637976e-01, -9.37690958e-02,  6.80252835e-02,  1.66997030e-01,\n",
              "       -5.30317537e-02,  5.04702665e-02,  1.72082394e-01, -1.04389554e-02,\n",
              "        2.48542856e-02, -1.16254359e-01, -1.82346272e+00,  3.44907157e-02,\n",
              "       -1.14456698e-01, -2.05303222e-01,  1.37109250e-01,  2.47520977e-04,\n",
              "        2.13381007e-01,  1.32603019e-01,  1.70513749e-01,  2.88298935e-01,\n",
              "       -3.71436514e-02,  3.53611439e-01,  7.26628006e-02, -5.48527353e-02,\n",
              "        3.72082368e-02, -6.74158782e-02, -1.32989632e-02, -1.17471859e-01,\n",
              "       -1.43278334e-02, -3.57646332e-03,  6.89815357e-02,  2.66097069e-01,\n",
              "       -1.91337243e-01,  2.41815493e-01, -9.47458595e-02,  1.66683495e-02,\n",
              "        1.66055441e-01, -8.43940079e-02, -3.78870070e-02, -9.55063477e-02,\n",
              "        1.51567563e-01,  8.48188549e-02, -4.24677059e-02, -2.41770931e-02,\n",
              "       -7.31371939e-02,  5.03655262e-02,  9.92927775e-02,  1.47217497e-01,\n",
              "       -3.66633013e-02,  1.50344297e-01, -2.46282697e-01, -2.42764071e-01,\n",
              "        2.42233142e-01,  4.59585905e-01, -2.09101468e-01, -6.48303479e-02,\n",
              "        1.08262673e-01,  1.78803504e-01,  1.87663436e-01, -2.65859932e-01,\n",
              "       -1.38434500e-01,  1.97407827e-02,  2.66021490e-01,  1.87009484e-01,\n",
              "       -4.34734710e-02, -1.80259719e-02, -2.26272997e-02, -1.75561875e-01,\n",
              "        3.83813120e-02, -3.80589180e-02,  6.92533702e-02,  3.28873433e-02,\n",
              "        6.64257184e-02, -2.64066315e+00,  2.21385151e-01,  5.84007502e-02,\n",
              "       -1.31803766e-01, -1.91075131e-01, -1.80887982e-01,  2.11178705e-01,\n",
              "        2.22617179e-01,  6.88931122e-02, -3.41279320e-02,  9.49890539e-02,\n",
              "       -1.23801015e-01,  3.91852409e-01, -3.83970961e-02, -2.94196662e-02,\n",
              "        2.09002927e-01,  1.99647829e-01, -3.21894400e-02, -8.71262029e-02,\n",
              "        5.28666489e-02,  1.54763818e-01,  4.29084226e-02,  3.55742097e-01,\n",
              "       -1.67248234e-01, -1.03610903e-01, -1.98864043e-01,  1.04832649e-01,\n",
              "        2.18202889e-01,  1.77779198e-01, -1.54898837e-01,  9.58289802e-02,\n",
              "       -1.78031251e-01,  1.26992792e-01, -3.08415294e+00,  3.23307991e-01,\n",
              "        3.09784234e-01,  6.29234239e-02, -4.80803251e-02,  1.29886881e-01,\n",
              "       -3.40997763e-02,  1.23231132e-02,  4.80702296e-02,  4.12325189e-02,\n",
              "       -2.19727792e-02,  8.45794380e-02, -1.15249552e-01,  1.40038401e-01,\n",
              "       -4.12424617e-02, -7.59333596e-02,  1.56553254e-01,  3.82632650e-02,\n",
              "        1.20687835e-01, -4.19110134e-02, -1.88725982e-02, -4.18622307e-02,\n",
              "       -4.59318608e-02,  3.01578879e-01,  2.12513939e-01,  1.70339301e-01,\n",
              "        7.87715390e-02, -6.60895184e-02, -1.33790269e-01,  2.09720507e-02,\n",
              "        2.49515623e-01, -3.25677954e-02,  2.07507506e-01,  9.69681516e-02,\n",
              "        1.45897921e-02,  3.61725181e-01, -3.73288207e-02, -4.19595614e-02,\n",
              "        3.11334934e-02,  1.56819701e-01,  8.78792852e-02,  6.53584898e-02,\n",
              "       -1.51722981e-02,  3.15398090e-02,  1.30438447e-01,  4.28176820e-02,\n",
              "        1.88168138e-02,  2.73726344e-01, -2.06779111e-02, -6.65732548e-02,\n",
              "        2.21749321e-01,  1.48367450e-01,  5.39639369e-02, -2.80803605e-03,\n",
              "       -2.13913829e-03, -3.66987646e-01,  2.42879510e-01,  9.07641947e-02,\n",
              "       -1.91271976e-01,  2.87605673e-02,  5.69345206e-02,  4.71978858e-02,\n",
              "       -1.57672390e-01,  3.52276683e+00,  2.43758000e-02,  4.07076739e-02,\n",
              "        9.33908671e-02,  8.88891742e-02,  7.43531510e-02,  1.00140326e-01,\n",
              "       -7.48871565e-02, -2.04352841e-01,  2.43981868e-01,  3.94727774e-02,\n",
              "        1.24452874e-01,  2.55595166e-02,  1.24216996e-01, -9.10344198e-02,\n",
              "        9.35356915e-02,  3.39771777e-01, -7.53065720e-02, -4.98149805e-02,\n",
              "       -1.10928208e-01,  4.33452725e-01,  3.01732458e-02,  3.71307880e-02,\n",
              "        6.82130968e-03, -9.97313321e-01, -5.03526814e-03, -1.75251722e-01,\n",
              "       -1.58114374e-01,  2.33268619e-01, -2.75704246e-02, -5.09420447e-02,\n",
              "        4.13748510e-02, -1.37990326e-01,  1.35577083e-01, -2.84786206e-02,\n",
              "       -4.18233834e-02, -9.66071114e-02,  2.74131924e-01,  2.68791735e-01,\n",
              "       -1.21263042e-01,  2.30562910e-01,  1.23147078e-01,  7.07413703e-02,\n",
              "        8.94821063e-02, -1.16643105e-02,  2.78048459e-02, -1.29213035e-01,\n",
              "       -6.77645728e-02, -9.63425264e-02,  1.16723113e-01,  1.04683721e-02,\n",
              "        7.70664737e-02,  9.81342886e-03, -1.30460873e-01, -1.65456384e-02,\n",
              "       -1.60537928e-01,  7.66877383e-02,  2.07524329e-01,  3.38964425e-02,\n",
              "       -2.47869521e-01, -6.25433624e-02, -2.68232152e-02, -1.49520785e-01,\n",
              "        2.36774668e-01, -4.02138382e-02, -2.25773267e-02,  1.25405222e-01,\n",
              "       -2.98681527e-01, -4.06699896e+00,  1.78929314e-01,  4.56687361e-02,\n",
              "        1.11736655e-01,  2.11403325e-01,  1.74884498e-01,  8.39511678e-02,\n",
              "        1.16395727e-01,  2.02470735e-01, -2.12965712e-01,  1.93736836e-01,\n",
              "        1.70049265e-01, -1.60906687e-01,  1.43509105e-01, -2.05798209e-01,\n",
              "        1.04402535e-01,  8.18568394e-02, -8.81498307e-02,  1.41348522e-02,\n",
              "       -1.15080051e-01,  1.13235720e-01,  1.45457879e-01, -2.72758573e-01,\n",
              "       -2.03828681e-02,  3.54459286e-02,  5.42617822e-03, -2.02219322e-01,\n",
              "       -1.43720850e-01,  2.83135563e-01, -2.30379775e-01,  2.69168313e-03,\n",
              "       -3.76784354e-02,  2.32048407e-01,  7.12633878e-02, -2.02561602e-01,\n",
              "       -2.54314637e+00,  2.14978661e-02, -7.60854185e-02, -1.25604331e-01,\n",
              "        1.93909496e-01, -8.65399018e-02,  1.70166671e-01, -1.34684220e-01,\n",
              "       -2.81513542e-01,  3.14662047e-02,  1.67040989e-01, -8.41733739e-02,\n",
              "        1.33709088e-01, -4.96525988e-02,  9.14806947e-02,  1.60504937e-01,\n",
              "       -2.48650257e-02,  5.88166155e-02,  1.18643805e-01,  2.81528868e-02,\n",
              "       -7.96064958e-02,  7.64055550e-02, -2.30493452e-02, -2.51430064e-01,\n",
              "       -4.36298782e-03,  2.41713509e-01, -3.41645420e-01, -7.79704675e-02,\n",
              "       -1.67729348e-01, -1.08855572e-02, -1.75411478e-02, -6.69640079e-02,\n",
              "       -9.08745825e-02, -3.80271822e-02, -2.36674070e-01, -2.21079364e-01,\n",
              "        7.00308084e-02,  1.84376583e-01,  3.32522720e-01,  2.24448964e-01,\n",
              "       -2.35015899e-01,  3.77247751e-01,  1.14765838e-01,  3.04255933e-01,\n",
              "        4.43469256e-01,  1.46382287e-01,  1.33725688e-01, -3.58548611e-01,\n",
              "       -9.31071937e-02,  9.79497507e-02, -1.34912198e-02, -1.02316976e-01,\n",
              "        9.10810709e-01, -2.29794025e-01,  2.37499520e-01,  7.80371353e-02,\n",
              "        2.89395750e-01,  1.18175432e-01, -3.21740285e-02, -8.68802518e-02,\n",
              "        3.21084082e-01, -7.96317235e-02,  7.37262666e-02,  5.76402759e-03,\n",
              "        3.80723104e-02, -2.83303767e-01,  2.68242210e-01, -1.80315897e-01,\n",
              "        1.94905214e-02, -5.47376927e-03, -2.02269122e-01,  4.28007171e-02,\n",
              "       -8.12257230e-02, -7.67020941e-01, -2.06016868e-01,  1.70238003e-01,\n",
              "       -5.81016615e-02,  1.32913873e-01,  1.81697547e-01, -6.03280328e-02,\n",
              "       -2.03827888e-01,  1.14652686e-01,  6.40675798e-02,  1.46182001e-01,\n",
              "       -1.32239595e-01, -1.34958014e-01, -1.08408399e-01, -4.03419510e-03,\n",
              "       -2.32322380e-01,  3.68541926e-02, -2.17576995e-01,  1.98144048e-01,\n",
              "        3.72577496e-02,  1.42210638e-02,  9.74717811e-02, -1.29009843e-01,\n",
              "        2.44544491e-01, -6.87450945e-01, -1.09721096e-02, -8.34190771e-02,\n",
              "       -2.59775370e-02, -5.77935874e-02, -1.32121488e-01, -2.11459845e-01,\n",
              "       -8.91220272e-02, -1.68435633e-01, -9.30360183e-02,  4.26112741e-01,\n",
              "       -2.72292703e-01, -3.71792614e-02,  1.27037048e-01,  1.29296407e-01,\n",
              "        2.27143705e-01, -2.01832876e-02,  7.64936209e-01, -1.27477407e-01,\n",
              "        4.71112244e-02,  3.27490747e-01, -4.45113927e-02,  6.13736548e-02,\n",
              "        5.91474697e-02,  2.01009780e-01,  1.60802871e-01, -8.07552040e-02,\n",
              "        1.61070901e-03,  2.71055140e-02, -6.74401373e-02, -2.99935132e-01,\n",
              "       -1.98730782e-01,  1.22993752e-01, -1.72175486e-02, -1.22403190e-01,\n",
              "       -1.36192217e-01, -5.71918547e-01,  5.47705479e-02, -1.20557562e-01,\n",
              "       -1.13475099e-01, -7.61988759e-02,  1.80313557e-01,  7.10264146e-02,\n",
              "        2.04521984e-01,  4.58552279e-02, -1.02445139e-02,  4.51458067e-01,\n",
              "        9.82631277e-03,  6.04229160e-02,  3.49573158e-02,  3.13219912e-02,\n",
              "        4.34062667e-02,  1.55041635e-01, -1.79103464e-01, -1.93664238e-01,\n",
              "        2.65228897e-01, -1.38130859e-01,  9.39559489e-02,  1.44159675e-01,\n",
              "        1.83097944e-02, -2.65522730e-02, -3.22885253e-02,  1.01836257e-01,\n",
              "        8.40478018e-02,  1.05915908e-02, -1.12028778e+00,  3.36167604e-01,\n",
              "        4.47358862e-02, -3.32646370e-02,  6.67236894e-02, -1.03146411e-01,\n",
              "       -9.61871520e-02,  2.41294816e-01, -1.41281681e-02,  6.48361295e-02,\n",
              "        3.38409804e-02,  6.83637112e-02, -2.10824132e-01,  1.44174904e-01,\n",
              "       -7.02831373e-02, -1.08456552e-01,  1.69280940e-03,  1.65814802e-01,\n",
              "        5.72832897e-02,  9.56056193e-02,  1.42531144e-02,  2.14429453e-01,\n",
              "        3.53613533e-02, -9.80643481e-02, -8.56348500e-02,  8.51531420e-03,\n",
              "        5.20889722e-02,  3.60508531e-01,  1.32472172e-01,  2.18935739e-02,\n",
              "        1.78565279e-01, -2.58379251e-01, -4.75960374e-01, -3.68515998e-02,\n",
              "        1.91987947e-01,  2.23087206e-01,  1.30951479e-01,  1.74197555e-01,\n",
              "        3.42909023e-02, -1.51060643e-02, -2.03954160e-01,  2.10501149e-01,\n",
              "        2.11215809e-01,  2.80092321e-02,  4.66533184e-01,  1.57334402e-01,\n",
              "       -1.18331045e-01,  2.12576896e-01,  8.37958530e-02, -2.20350146e-01,\n",
              "        1.20370854e-02,  5.46934642e-02,  4.61849471e-04, -1.92701340e-01,\n",
              "       -3.34001146e-02,  8.27236176e-02, -1.07610449e-01, -5.72598213e-03,\n",
              "       -5.98028265e-02, -3.12987193e-02,  3.58885676e-01, -2.47071534e-01,\n",
              "       -4.92351651e-02,  2.71170467e-01, -4.98046121e-03, -3.57347608e-01,\n",
              "       -9.96586382e-02,  1.33104250e-01,  5.71363904e-02,  9.18509141e-02,\n",
              "        2.34639302e-01, -1.03344955e-01, -1.06927909e-01,  1.86604112e-01,\n",
              "       -3.05532515e-01,  7.31452480e-02, -1.94968202e-03,  1.36288047e-01,\n",
              "        1.41411290e-01, -3.95780861e-01,  3.56346406e-02, -3.42613071e-01,\n",
              "       -1.84133977e-01,  1.73278093e-01,  9.31841433e-02,  7.08949342e-02,\n",
              "        3.66339497e-02, -5.56484424e-02, -1.08025044e-01, -1.61897950e-02,\n",
              "       -2.17680261e-02, -3.20604086e-01,  1.34619892e-01,  5.26715182e-02,\n",
              "        8.15189853e-02, -2.72296797e-02,  3.41840112e-03, -1.79207232e-02,\n",
              "       -9.47937146e-02, -3.69307324e-02, -6.71393573e-02,  2.52554178e-01,\n",
              "        1.57244220e-01,  4.44230773e-02,  1.01751052e-01,  1.14299029e-01,\n",
              "        1.46423116e-01,  3.27486657e-02, -1.17837124e-01,  9.79160592e-02,\n",
              "        1.39003526e-02,  5.21597336e-04, -1.93585321e-01,  6.14655092e-02,\n",
              "       -5.77591658e-02, -2.36705810e-01, -1.97488308e-01, -2.33476628e-02,\n",
              "        2.09931445e+00,  3.80902082e-01, -2.83435779e-03, -6.22152537e-02,\n",
              "        2.16453105e-01,  7.65790120e-02, -1.97882969e-02,  1.98030710e-01,\n",
              "       -6.76320940e-02,  1.94323376e-01,  8.81876647e-02,  1.07583627e-02,\n",
              "       -2.89808325e-02,  1.50752324e-03,  2.95339108e-01,  1.02490917e-01,\n",
              "       -1.25664070e-01, -1.58053920e-01, -2.14347422e-01,  6.28342628e-02,\n",
              "       -3.68014008e-01,  1.70523897e-01,  2.13642180e-01,  8.12405869e-02,\n",
              "        7.96744525e-02,  7.20870718e-02, -1.22194447e-01, -2.00460792e-01,\n",
              "        3.74301150e-02,  1.05769932e-01, -1.11895412e-01,  3.91132385e-02,\n",
              "       -6.15434982e-02,  2.88240373e-01, -1.97453350e-01,  6.50009140e-02,\n",
              "        1.60084262e-01, -2.60266632e-01, -1.65391460e-01,  9.68467221e-02,\n",
              "       -2.74093542e-02, -3.21803331e-01,  2.87925243e-01,  4.07952480e-02,\n",
              "        3.21929902e-02,  2.73738503e-01,  2.47497819e-02, -1.51956514e-01,\n",
              "        1.30118623e-01,  2.26740763e-02, -7.53726065e-02, -8.12017694e-02,\n",
              "       -9.70156938e-02, -1.77249517e-02, -8.18862319e-02, -7.15935156e-02,\n",
              "        6.75889552e-02,  4.63534407e-02,  1.97255805e-01,  3.36567551e-01,\n",
              "       -6.91569299e-02,  5.35292886e-02,  3.46578434e-02, -1.26470998e-01,\n",
              "        1.93754047e-01,  4.59382944e-02, -1.69813499e-01,  1.96472421e-01,\n",
              "        1.52423874e-01, -6.99912980e-02, -6.79248618e-03,  2.10295498e-01,\n",
              "        7.49280155e-02, -6.89418241e-02,  1.40065998e-01, -2.42637973e-02,\n",
              "        2.97922760e-01,  7.11899484e-03, -4.72687818e-02, -3.12695265e+00,\n",
              "       -5.60021922e-02,  2.47616582e-02,  9.70145389e-02,  1.23520069e-01,\n",
              "        3.78701717e-01,  1.51058808e-01, -1.69328272e-01,  1.21689655e-01,\n",
              "       -1.08793221e-01,  7.54598081e-02,  2.13295311e-01,  1.51571468e-01,\n",
              "        1.01124406e-01,  6.93168491e-02,  9.74781662e-02, -2.78515723e-02,\n",
              "       -1.81372508e-01, -1.13884926e-01,  1.45597057e-02,  6.41952408e-03,\n",
              "        1.65278949e-02, -1.69775724e-01, -2.01215863e-01, -3.50572705e-01,\n",
              "        1.16404667e-01, -7.29203820e-02, -8.49502012e-02, -2.08031922e-03,\n",
              "        8.61964747e-03, -2.58981407e-01,  2.51494229e-01, -5.07920645e-02,\n",
              "        2.04847872e-01,  5.70443785e-03, -2.92064309e-01, -1.79863617e-01,\n",
              "       -3.32830921e-02, -7.78864771e-02,  1.07605057e-02, -1.81215420e-01,\n",
              "        2.49616981e-01, -4.74716164e-02, -9.34671164e-02, -5.65753430e-02,\n",
              "       -3.74063663e-02,  3.22375417e-01, -3.04436386e-01,  8.19368288e-02,\n",
              "       -1.82573661e-01, -8.21182691e-03,  9.01230127e-02,  4.60564196e-02,\n",
              "       -1.89998150e-02,  1.49644941e-01,  3.69378477e-02,  5.03812283e-02,\n",
              "        1.18063644e-01,  7.02355281e-02, -2.49072030e-01,  1.52140856e-01,\n",
              "       -5.48259635e-03,  6.02653995e-02,  1.53896362e-01,  2.27970138e-01,\n",
              "       -1.51752099e-01, -1.09961018e-01, -8.21610615e-02, -1.90210734e-02,\n",
              "       -3.51586752e-02, -2.14011446e-01, -1.41244933e-01,  1.37400508e-01,\n",
              "        1.01797849e-01,  1.16968237e-01, -1.28875136e-01,  2.60414928e-01,\n",
              "        1.80208102e-01,  1.13429070e-01,  1.66108489e-01,  4.65256162e-02,\n",
              "       -9.46758986e-02,  6.46898299e-02, -5.03666373e-03,  1.30762413e-01,\n",
              "       -8.00419903e+00, -1.46303564e-01, -1.94916815e-01, -3.07449289e-02,\n",
              "        7.43086636e-02, -2.14926541e-01,  5.67677580e-02, -7.60401040e-02,\n",
              "        4.55324650e-02, -1.08325385e-01,  1.56832442e-01,  3.42841856e-02,\n",
              "       -3.06296181e-02, -1.03219055e-01,  3.43447775e-02,  2.96898007e-01],\n",
              "      dtype=float32)"
            ]
          },
          "metadata": {
            "tags": []
          },
          "execution_count": 13
        }
      ]
    }
  ]
}